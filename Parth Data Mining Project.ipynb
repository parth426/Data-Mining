{
 "cells": [
  {
   "cell_type": "markdown",
   "metadata": {},
   "source": [
    "# Data Mining"
   ]
  },
  {
   "cell_type": "markdown",
   "metadata": {},
   "source": [
    "## Midterm Project"
   ]
  },
  {
   "cell_type": "markdown",
   "metadata": {},
   "source": [
    "## Apriori Algorithm"
   ]
  },
  {
   "cell_type": "markdown",
   "metadata": {},
   "source": [
    "### Submitted by - Parth Sharma (UCID - 31543562) Mail - ps75@njit.edu"
   ]
  },
  {
   "cell_type": "markdown",
   "metadata": {},
   "source": [
    "##### How to run: - Jupyter Notebook will be the best way to run this program. This program uses the name and the address of the CSV file which is present in my current system. To avoid error, make sure you have CSV file with same name and path, or you can change the attributes in the program accordingly.\n"
   ]
  },
  {
   "cell_type": "markdown",
   "metadata": {},
   "source": [
    "###### About the Program: This program shows the comparison between the 2 approaches which are used to find out the frequent item set. This program takes the input from user at the run time input such as\n",
    "• Minimum support\n",
    "\n",
    "• Minimum Confidence\n"
   ]
  },
  {
   "cell_type": "markdown",
   "metadata": {},
   "source": [
    "### Code and the output is given below."
   ]
  },
  {
   "cell_type": "markdown",
   "metadata": {},
   "source": [
    "### Importing Libraries"
   ]
  },
  {
   "cell_type": "code",
   "execution_count": 1,
   "metadata": {},
   "outputs": [],
   "source": [
    "import numpy as np\n",
    "import pandas as pd\n",
    "import itertools"
   ]
  },
  {
   "cell_type": "code",
   "execution_count": 2,
   "metadata": {},
   "outputs": [
    {
     "name": "stdout",
     "output_type": "stream",
     "text": [
      "Enter any desired value 1\n"
     ]
    }
   ],
   "source": [
    "i = int(input('Enter any desired value '))\n",
    "if i == 1:\n",
    "    data = pd.read_csv('GroceryStoreDataSet.csv')\n",
    "if i ==2:\n",
    "    data = pd.read_csv('nike.csv')\n",
    "else:\n",
    "    data = pd.read_csv('flipkart.csv')"
   ]
  },
  {
   "cell_type": "markdown",
   "metadata": {},
   "source": [
    "## Dataset 1 \n",
    "\n",
    "Note- (i=1 for dataset 1)"
   ]
  },
  {
   "cell_type": "code",
   "execution_count": 3,
   "metadata": {},
   "outputs": [
    {
     "data": {
      "text/html": [
       "<div>\n",
       "<style scoped>\n",
       "    .dataframe tbody tr th:only-of-type {\n",
       "        vertical-align: middle;\n",
       "    }\n",
       "\n",
       "    .dataframe tbody tr th {\n",
       "        vertical-align: top;\n",
       "    }\n",
       "\n",
       "    .dataframe thead th {\n",
       "        text-align: right;\n",
       "    }\n",
       "</style>\n",
       "<table border=\"1\" class=\"dataframe\">\n",
       "  <thead>\n",
       "    <tr style=\"text-align: right;\">\n",
       "      <th></th>\n",
       "      <th>Item 1</th>\n",
       "      <th>Item 2</th>\n",
       "      <th>Item 3</th>\n",
       "      <th>Item 4</th>\n",
       "      <th>Item 5</th>\n",
       "      <th>Item 6</th>\n",
       "      <th>Item 7</th>\n",
       "      <th>Item 8</th>\n",
       "      <th>Item 9</th>\n",
       "    </tr>\n",
       "  </thead>\n",
       "  <tbody>\n",
       "    <tr>\n",
       "      <th>0</th>\n",
       "      <td>Desk Top</td>\n",
       "      <td>Flash Drive</td>\n",
       "      <td>Microsoft Office</td>\n",
       "      <td>Speakers</td>\n",
       "      <td>Anti-Virus</td>\n",
       "      <td>NaN</td>\n",
       "      <td>NaN</td>\n",
       "      <td>NaN</td>\n",
       "      <td>NaN</td>\n",
       "    </tr>\n",
       "    <tr>\n",
       "      <th>1</th>\n",
       "      <td>Lab Top</td>\n",
       "      <td>Flash Drive</td>\n",
       "      <td>Microsoft Office</td>\n",
       "      <td>Anti-Virus</td>\n",
       "      <td>Lab Top Case</td>\n",
       "      <td>External Hard-Drive</td>\n",
       "      <td>NaN</td>\n",
       "      <td>NaN</td>\n",
       "      <td>NaN</td>\n",
       "    </tr>\n",
       "    <tr>\n",
       "      <th>2</th>\n",
       "      <td>Lab Top</td>\n",
       "      <td>Flash Drive</td>\n",
       "      <td>Anti-Virus</td>\n",
       "      <td>External Hard-Drive</td>\n",
       "      <td>Lab Top Case</td>\n",
       "      <td>NaN</td>\n",
       "      <td>NaN</td>\n",
       "      <td>NaN</td>\n",
       "      <td>NaN</td>\n",
       "    </tr>\n",
       "    <tr>\n",
       "      <th>3</th>\n",
       "      <td>Lab Top</td>\n",
       "      <td>Lab Top Case</td>\n",
       "      <td>Anti-Virus</td>\n",
       "      <td>NaN</td>\n",
       "      <td>NaN</td>\n",
       "      <td>NaN</td>\n",
       "      <td>NaN</td>\n",
       "      <td>NaN</td>\n",
       "      <td>NaN</td>\n",
       "    </tr>\n",
       "    <tr>\n",
       "      <th>4</th>\n",
       "      <td>Lab Top</td>\n",
       "      <td>Flash Drive</td>\n",
       "      <td>Microsoft Office</td>\n",
       "      <td>NaN</td>\n",
       "      <td>NaN</td>\n",
       "      <td>NaN</td>\n",
       "      <td>NaN</td>\n",
       "      <td>NaN</td>\n",
       "      <td>NaN</td>\n",
       "    </tr>\n",
       "  </tbody>\n",
       "</table>\n",
       "</div>"
      ],
      "text/plain": [
       "      Item 1         Item 2             Item 3                Item 4  \\\n",
       "0   Desk Top    Flash Drive   Microsoft Office              Speakers   \n",
       "1    Lab Top    Flash Drive   Microsoft Office            Anti-Virus   \n",
       "2    Lab Top    Flash Drive         Anti-Virus   External Hard-Drive   \n",
       "3    Lab Top   Lab Top Case         Anti-Virus                   NaN   \n",
       "4    Lab Top    Flash Drive   Microsoft Office                   NaN   \n",
       "\n",
       "          Item 5               Item 6  Item 7 Item 8 Item 9  \n",
       "0     Anti-Virus                   NaN    NaN    NaN    NaN  \n",
       "1   Lab Top Case   External Hard-Drive    NaN    NaN    NaN  \n",
       "2   Lab Top Case                   NaN    NaN    NaN    NaN  \n",
       "3            NaN                   NaN    NaN    NaN    NaN  \n",
       "4            NaN                   NaN    NaN    NaN    NaN  "
      ]
     },
     "execution_count": 3,
     "metadata": {},
     "output_type": "execute_result"
    }
   ],
   "source": [
    "data.head()"
   ]
  },
  {
   "cell_type": "code",
   "execution_count": 4,
   "metadata": {},
   "outputs": [
    {
     "data": {
      "text/html": [
       "<div>\n",
       "<style scoped>\n",
       "    .dataframe tbody tr th:only-of-type {\n",
       "        vertical-align: middle;\n",
       "    }\n",
       "\n",
       "    .dataframe tbody tr th {\n",
       "        vertical-align: top;\n",
       "    }\n",
       "\n",
       "    .dataframe thead th {\n",
       "        text-align: right;\n",
       "    }\n",
       "</style>\n",
       "<table border=\"1\" class=\"dataframe\">\n",
       "  <thead>\n",
       "    <tr style=\"text-align: right;\">\n",
       "      <th></th>\n",
       "      <th>Item 1</th>\n",
       "      <th>Item 2</th>\n",
       "      <th>Item 3</th>\n",
       "      <th>Item 4</th>\n",
       "      <th>Item 5</th>\n",
       "      <th>Item 6</th>\n",
       "      <th>Item 7</th>\n",
       "      <th>Item 8</th>\n",
       "      <th>Item 9</th>\n",
       "    </tr>\n",
       "  </thead>\n",
       "  <tbody>\n",
       "    <tr>\n",
       "      <th>14</th>\n",
       "      <td>Digital Camera</td>\n",
       "      <td>Microsoft Office</td>\n",
       "      <td>Anti-Virus</td>\n",
       "      <td>Lab Top Case</td>\n",
       "      <td>External Hard-Drive</td>\n",
       "      <td>Speakers</td>\n",
       "      <td>NaN</td>\n",
       "      <td>NaN</td>\n",
       "      <td>NaN</td>\n",
       "    </tr>\n",
       "    <tr>\n",
       "      <th>15</th>\n",
       "      <td>Digital Camera</td>\n",
       "      <td>Lab Top Case</td>\n",
       "      <td>NaN</td>\n",
       "      <td>NaN</td>\n",
       "      <td>NaN</td>\n",
       "      <td>NaN</td>\n",
       "      <td>NaN</td>\n",
       "      <td>NaN</td>\n",
       "      <td>NaN</td>\n",
       "    </tr>\n",
       "    <tr>\n",
       "      <th>16</th>\n",
       "      <td>Digital Camera</td>\n",
       "      <td>Speakers</td>\n",
       "      <td>NaN</td>\n",
       "      <td>NaN</td>\n",
       "      <td>NaN</td>\n",
       "      <td>NaN</td>\n",
       "      <td>NaN</td>\n",
       "      <td>NaN</td>\n",
       "      <td>NaN</td>\n",
       "    </tr>\n",
       "    <tr>\n",
       "      <th>17</th>\n",
       "      <td>Digital Camera</td>\n",
       "      <td>Printer</td>\n",
       "      <td>Flash Drive</td>\n",
       "      <td>Microsoft Office</td>\n",
       "      <td>Speakers</td>\n",
       "      <td>Lab Top Case</td>\n",
       "      <td>Anti-Virus</td>\n",
       "      <td>NaN</td>\n",
       "      <td>NaN</td>\n",
       "    </tr>\n",
       "    <tr>\n",
       "      <th>18</th>\n",
       "      <td>Digital Camera</td>\n",
       "      <td>Speakers</td>\n",
       "      <td>Anti-Virus</td>\n",
       "      <td>Lab Top Case</td>\n",
       "      <td>NaN</td>\n",
       "      <td>NaN</td>\n",
       "      <td>NaN</td>\n",
       "      <td>NaN</td>\n",
       "      <td>NaN</td>\n",
       "    </tr>\n",
       "  </tbody>\n",
       "</table>\n",
       "</div>"
      ],
      "text/plain": [
       "              Item 1             Item 2        Item 3             Item 4  \\\n",
       "14    Digital Camera   Microsoft Office    Anti-Virus       Lab Top Case   \n",
       "15   Digital Camera        Lab Top Case           NaN                NaN   \n",
       "16   Digital Camera            Speakers           NaN                NaN   \n",
       "17   Digital Camera             Printer   Flash Drive   Microsoft Office   \n",
       "18   Digital Camera            Speakers    Anti-Virus       Lab Top Case   \n",
       "\n",
       "                  Item 5        Item 6        Item 7 Item 8 Item 9  \n",
       "14   External Hard-Drive       Speakers          NaN    NaN    NaN  \n",
       "15                   NaN            NaN          NaN    NaN    NaN  \n",
       "16                   NaN            NaN          NaN    NaN    NaN  \n",
       "17              Speakers   Lab Top Case   Anti-Virus    NaN    NaN  \n",
       "18                   NaN            NaN          NaN    NaN    NaN  "
      ]
     },
     "execution_count": 4,
     "metadata": {},
     "output_type": "execute_result"
    }
   ],
   "source": [
    "data.tail()"
   ]
  },
  {
   "cell_type": "code",
   "execution_count": 5,
   "metadata": {},
   "outputs": [
    {
     "data": {
      "text/plain": [
       "(19, 9)"
      ]
     },
     "execution_count": 5,
     "metadata": {},
     "output_type": "execute_result"
    }
   ],
   "source": [
    "data.shape"
   ]
  },
  {
   "cell_type": "markdown",
   "metadata": {},
   "source": [
    "## List of all unique items in each transaction "
   ]
  },
  {
   "cell_type": "code",
   "execution_count": 6,
   "metadata": {},
   "outputs": [
    {
     "name": "stdout",
     "output_type": "stream",
     "text": [
      "List of Unique Items in Transaction : 0 \n",
      "[' Desk Top' ' Flash Drive' ' Microsoft Office' ' Speakers' ' Anti-Virus']  \n",
      "\n",
      "List of Unique Items in Transaction : 1 \n",
      "[' Lab Top' ' Flash Drive' ' Microsoft Office' ' Anti-Virus'\n",
      " ' Lab Top Case' ' External Hard-Drive']  \n",
      "\n",
      "List of Unique Items in Transaction : 2 \n",
      "[' Lab Top' ' Flash Drive' ' Anti-Virus' ' External Hard-Drive'\n",
      " ' Lab Top Case']  \n",
      "\n",
      "List of Unique Items in Transaction : 3 \n",
      "[' Lab Top' ' Lab Top Case' ' Anti-Virus']  \n",
      "\n",
      "List of Unique Items in Transaction : 4 \n",
      "[' Lab Top' ' Flash Drive' ' Microsoft Office']  \n",
      "\n",
      "List of Unique Items in Transaction : 5 \n",
      "[' Desk Top' ' Flash Drive' ' Microsoft Office']  \n",
      "\n",
      "List of Unique Items in Transaction : 6 \n",
      "[' Lab Top' ' Anti-Virus']  \n",
      "\n",
      "List of Unique Items in Transaction : 7 \n",
      "[' Desk Top' ' Flash Drive' ' Microsoft Office' ' Lab Top Case'\n",
      " ' Anti-Virus' ' Speakers' ' External Hard-Drive']  \n",
      "\n",
      "List of Unique Items in Transaction : 8 \n",
      "[' Digital Camera ' ' Desk Top' ' Printer' ' Flash Drive'\n",
      " ' Microsoft Office' ' Lab Top Case' ' Anti-Virus' ' External Hard-Drive'\n",
      " ' Speakers']  \n",
      "\n",
      "List of Unique Items in Transaction : 9 \n",
      "[' Lab Top' ' Lab Top Case' ' External Hard-Drive' ' Speakers'\n",
      " ' Anti-Virus']  \n",
      "\n",
      "List of Unique Items in Transaction : 10 \n",
      "[' Digital Camera ' ' Lab Top Case' ' External Hard-Drive' ' Anti-Virus'\n",
      " ' Speakers']  \n",
      "\n",
      "List of Unique Items in Transaction : 11 \n",
      "[' Digital Camera ']  \n",
      "\n",
      "List of Unique Items in Transaction : 12 \n",
      "[' Digital Camera ' ' Printer' ' Flash Drive' ' Microsoft Office']  \n",
      "\n",
      "List of Unique Items in Transaction : 13 \n",
      "[' Printer' ' Microsoft Office' ' Anti-Virus' ' Lab Top Case' ' Speakers'\n",
      " ' External Hard-Drive']  \n",
      "\n",
      "List of Unique Items in Transaction : 14 \n",
      "[' Digital Camera' ' Microsoft Office' ' Anti-Virus' ' Lab Top Case'\n",
      " ' External Hard-Drive' ' Speakers']  \n",
      "\n",
      "List of Unique Items in Transaction : 15 \n",
      "[' Digital Camera ' ' Lab Top Case']  \n",
      "\n",
      "List of Unique Items in Transaction : 16 \n",
      "[' Digital Camera ' ' Speakers']  \n",
      "\n",
      "List of Unique Items in Transaction : 17 \n",
      "[' Digital Camera ' ' Printer' ' Flash Drive' ' Microsoft Office'\n",
      " ' Speakers' ' Lab Top Case' ' Anti-Virus']  \n",
      "\n",
      "List of Unique Items in Transaction : 18 \n",
      "[' Digital Camera ' ' Speakers' ' Anti-Virus' ' Lab Top Case']  \n",
      "\n"
     ]
    }
   ],
   "source": [
    "for i in range(data.shape[0]):\n",
    "    print(f'List of Unique Items in Transaction : {i} ')\n",
    "    print(data.iloc[i].dropna().unique(),' \\n')"
   ]
  },
  {
   "cell_type": "code",
   "execution_count": 7,
   "metadata": {},
   "outputs": [
    {
     "name": "stdout",
     "output_type": "stream",
     "text": [
      "Total no. of transactions in this Nike set 19\n"
     ]
    }
   ],
   "source": [
    "print(f'Total no. of transactions in this Nike set {data.shape[0]}')"
   ]
  },
  {
   "cell_type": "code",
   "execution_count": 8,
   "metadata": {},
   "outputs": [
    {
     "name": "stdout",
     "output_type": "stream",
     "text": [
      "enter any value for min support count 5\n"
     ]
    }
   ],
   "source": [
    "minimum_s_count = float(input('enter any value for min support count '))"
   ]
  },
  {
   "cell_type": "code",
   "execution_count": 9,
   "metadata": {},
   "outputs": [
    {
     "name": "stdout",
     "output_type": "stream",
     "text": [
      "Enter any desired value for confidence 60\n"
     ]
    }
   ],
   "source": [
    "minimum_confi = float(input('Enter any desired value for confidence '))"
   ]
  },
  {
   "cell_type": "code",
   "execution_count": 10,
   "metadata": {},
   "outputs": [],
   "source": [
    "records = []\n",
    "for i in range(0, data.shape[0]):\n",
    "    records.append([str(data.values[i,j]) for j in range(0, data.shape[1])])\n",
    "\n",
    "items = sorted([item for sublist in records for item in sublist if item != 'nan'])"
   ]
  },
  {
   "cell_type": "markdown",
   "metadata": {},
   "source": [
    "### List of Unique itemsets in this dataset"
   ]
  },
  {
   "cell_type": "code",
   "execution_count": 11,
   "metadata": {},
   "outputs": [
    {
     "data": {
      "text/plain": [
       "{' Anti-Virus',\n",
       " ' Desk Top',\n",
       " ' Digital Camera',\n",
       " ' Digital Camera ',\n",
       " ' External Hard-Drive',\n",
       " ' Flash Drive',\n",
       " ' Lab Top',\n",
       " ' Lab Top Case',\n",
       " ' Microsoft Office',\n",
       " ' Printer',\n",
       " ' Speakers'}"
      ]
     },
     "execution_count": 11,
     "metadata": {},
     "output_type": "execute_result"
    }
   ],
   "source": [
    "set(items)"
   ]
  },
  {
   "cell_type": "code",
   "execution_count": 12,
   "metadata": {},
   "outputs": [],
   "source": [
    "# To get a single item with their overall count in all transactions given.\n",
    "\n",
    "def stage_1(items, minimum_s_count):\n",
    "    c1 = {i:items.count(i) for i in items}\n",
    "    l1 = {}\n",
    "    for key, value in c1.items():\n",
    "        if value >= minimum_s_count:\n",
    "            l1[key] = value \n",
    "    \n",
    "    return c1, l1"
   ]
  },
  {
   "cell_type": "code",
   "execution_count": 13,
   "metadata": {},
   "outputs": [],
   "source": [
    "# To get sets of 2 items with their overall count in all transactions given.\n",
    "def stage_2(l1, records, minimum_s_count):\n",
    "    l1 = sorted(list(l1.keys()))\n",
    "    L1 = list(itertools.combinations(l1, 2))              # To make all possible combinations of 2 items\n",
    "    c2 = {}\n",
    "    l2 = {}\n",
    "    for iter1 in L1:\n",
    "        count = 0\n",
    "        for iter2 in records:\n",
    "            if sublist(iter1, iter2):\n",
    "                count+=1\n",
    "        c2[iter1] = count\n",
    "    for key, value in c2.items():\n",
    "        if value >= minimum_s_count:\n",
    "            if check_subset_frequency(key, l1, 1):\n",
    "                l2[key] = value \n",
    "    \n",
    "    return c2, l2"
   ]
  },
  {
   "cell_type": "code",
   "execution_count": 14,
   "metadata": {},
   "outputs": [],
   "source": [
    "# To get sets of 3 items with their overall count in all transactions given.    \n",
    "def stage_3(l2, records, minimum_s_count):\n",
    "    l2 = list(l2.keys())\n",
    "    L2 = sorted(list(set([item for t in l2 for item in t])))\n",
    "    L2 = list(itertools.combinations(L2, 3))           # To make all possible combinations of 3 items\n",
    "    c3 = {}\n",
    "    l3 = {}\n",
    "    for iter1 in L2:\n",
    "        count = 0\n",
    "        for iter2 in records:\n",
    "            if sublist(iter1, iter2):\n",
    "                count+=1\n",
    "        c3[iter1] = count\n",
    "    for key, value in c3.items():\n",
    "        if value >= minimum_s_count:\n",
    "            if check_subset_frequency(key, l2, 2):\n",
    "                l3[key] = value \n",
    "        \n",
    "    return c3, l3"
   ]
  },
  {
   "cell_type": "code",
   "execution_count": 15,
   "metadata": {},
   "outputs": [],
   "source": [
    "# To get sets of 4 items with their overall count in all transactions given.\n",
    "def stage_4(l3, records, minimum_s_count):\n",
    "    l3 = list(l3.keys())\n",
    "    L3 = sorted(list(set([item for t in l3 for item in t])))\n",
    "    L3 = list(itertools.combinations(L3, 4))             # To make all possible combinations of 4 items\n",
    "    c4 = {}\n",
    "    l4 = {}\n",
    "    for iter1 in L3:\n",
    "        count = 0\n",
    "        for iter2 in records:\n",
    "            if sublist(iter1, iter2):\n",
    "                count+=1\n",
    "        c4[iter1] = count\n",
    "    for key, value in c4.items():\n",
    "        if value >= minimum_s_count:\n",
    "            if check_subset_frequency(key, l3, 3):\n",
    "                l4[key] = value \n",
    "        \n",
    "    return c4, l4"
   ]
  },
  {
   "cell_type": "code",
   "execution_count": 16,
   "metadata": {},
   "outputs": [],
   "source": [
    "def sublist(lst1, lst2):\n",
    "    return set(lst1) <= set(lst2)\n",
    "    \n",
    "def check_subset_frequency(itemset, l, n):\n",
    "    if n>1:    \n",
    "        subsets = list(itertools.combinations(itemset, n))\n",
    "    else:\n",
    "        subsets = itemset\n",
    "    for iter1 in subsets:\n",
    "        if not iter1 in l:\n",
    "            return False\n",
    "    return True"
   ]
  },
  {
   "cell_type": "markdown",
   "metadata": {},
   "source": [
    "## Below part prints all L1,L2,L3\n",
    "\n",
    "###### All of them have pairs of 1 item, 2 items, 3 items respectively following minimum support decided by user above."
   ]
  },
  {
   "cell_type": "code",
   "execution_count": 17,
   "metadata": {},
   "outputs": [],
   "source": [
    "c1, l1 = stage_1(items, minimum_s_count)\n",
    "c2, l2 = stage_2(l1, records, minimum_s_count)\n",
    "c3, l3 = stage_3(l2, records, minimum_s_count)\n",
    "c4, l4 = stage_4(l3, records, minimum_s_count)"
   ]
  },
  {
   "cell_type": "code",
   "execution_count": 18,
   "metadata": {},
   "outputs": [
    {
     "name": "stdout",
     "output_type": "stream",
     "text": [
      " Anti-Virus  :  13\n",
      " Digital Camera   :  8\n",
      " External Hard-Drive  :  8\n",
      " Flash Drive  :  9\n",
      " Lab Top  :  6\n",
      " Lab Top Case  :  12\n",
      " Microsoft Office  :  10\n",
      " Speakers  :  10\n"
     ]
    }
   ],
   "source": [
    "for key, value in l1.items():\n",
    "    print(key, ' : ', value)"
   ]
  },
  {
   "cell_type": "code",
   "execution_count": 19,
   "metadata": {},
   "outputs": [
    {
     "name": "stdout",
     "output_type": "stream",
     "text": [
      "(' Anti-Virus', ' External Hard-Drive')  :  8\n",
      "(' Anti-Virus', ' Flash Drive')  :  6\n",
      "(' Anti-Virus', ' Lab Top')  :  5\n",
      "(' Anti-Virus', ' Lab Top Case')  :  11\n",
      "(' Anti-Virus', ' Microsoft Office')  :  7\n",
      "(' Anti-Virus', ' Speakers')  :  9\n",
      "(' Digital Camera ', ' Lab Top Case')  :  5\n",
      "(' Digital Camera ', ' Speakers')  :  5\n",
      "(' External Hard-Drive', ' Lab Top Case')  :  8\n",
      "(' External Hard-Drive', ' Microsoft Office')  :  5\n",
      "(' External Hard-Drive', ' Speakers')  :  6\n",
      "(' Flash Drive', ' Lab Top Case')  :  5\n",
      "(' Flash Drive', ' Microsoft Office')  :  8\n",
      "(' Lab Top Case', ' Microsoft Office')  :  6\n",
      "(' Lab Top Case', ' Speakers')  :  8\n",
      "(' Microsoft Office', ' Speakers')  :  6\n"
     ]
    }
   ],
   "source": [
    "for key, value in l2.items():\n",
    "    print(key, ' : ', value)"
   ]
  },
  {
   "cell_type": "code",
   "execution_count": 20,
   "metadata": {},
   "outputs": [
    {
     "name": "stdout",
     "output_type": "stream",
     "text": [
      "(' Anti-Virus', ' External Hard-Drive', ' Lab Top Case')  :  8\n",
      "(' Anti-Virus', ' External Hard-Drive', ' Microsoft Office')  :  5\n",
      "(' Anti-Virus', ' External Hard-Drive', ' Speakers')  :  6\n",
      "(' Anti-Virus', ' Flash Drive', ' Lab Top Case')  :  5\n",
      "(' Anti-Virus', ' Flash Drive', ' Microsoft Office')  :  5\n",
      "(' Anti-Virus', ' Lab Top Case', ' Microsoft Office')  :  6\n",
      "(' Anti-Virus', ' Lab Top Case', ' Speakers')  :  8\n",
      "(' Anti-Virus', ' Microsoft Office', ' Speakers')  :  6\n",
      "(' External Hard-Drive', ' Lab Top Case', ' Microsoft Office')  :  5\n",
      "(' External Hard-Drive', ' Lab Top Case', ' Speakers')  :  6\n",
      "(' Lab Top Case', ' Microsoft Office', ' Speakers')  :  5\n"
     ]
    }
   ],
   "source": [
    "for key, value in l3.items():\n",
    "    print(key, ' : ', value)"
   ]
  },
  {
   "cell_type": "markdown",
   "metadata": {},
   "source": [
    "## Print Association Rules\n",
    "\n",
    "###### (with their Minimum support & minimum confidence)"
   ]
  },
  {
   "cell_type": "code",
   "execution_count": 21,
   "metadata": {},
   "outputs": [
    {
     "name": "stdout",
     "output_type": "stream",
     "text": [
      "ASSOCIATION RULES : \n",
      "\n",
      "Confidence (' Anti-Virus', ' External Hard-Drive')->{' Lab Top Case'} =  100.0 %\n",
      "Support(' Anti-Virus', ' External Hard-Drive')->{' Lab Top Case'} =  8\n",
      "\n",
      "\n",
      "Confidence (' Anti-Virus', ' Lab Top Case')->{' External Hard-Drive'} =  72.727 %\n",
      "Support(' Anti-Virus', ' Lab Top Case')->{' External Hard-Drive'} =  11\n",
      "\n",
      "\n",
      "Confidence (' External Hard-Drive', ' Lab Top Case')->{' Anti-Virus'} =  100.0 %\n",
      "Support(' External Hard-Drive', ' Lab Top Case')->{' Anti-Virus'} =  8\n",
      "\n",
      "\n",
      "Confidence (' Anti-Virus', ' External Hard-Drive')->{' Microsoft Office'} =  62.5 %\n",
      "Support(' Anti-Virus', ' External Hard-Drive')->{' Microsoft Office'} =  8\n",
      "\n",
      "\n",
      "Confidence (' Anti-Virus', ' Microsoft Office')->{' External Hard-Drive'} =  71.429 %\n",
      "Support(' Anti-Virus', ' Microsoft Office')->{' External Hard-Drive'} =  7\n",
      "\n",
      "\n",
      "Confidence (' External Hard-Drive', ' Microsoft Office')->{' Anti-Virus'} =  100.0 %\n",
      "Support(' External Hard-Drive', ' Microsoft Office')->{' Anti-Virus'} =  5\n",
      "\n",
      "\n",
      "Confidence (' Anti-Virus', ' External Hard-Drive')->{' Speakers'} =  75.0 %\n",
      "Support(' Anti-Virus', ' External Hard-Drive')->{' Speakers'} =  8\n",
      "\n",
      "\n",
      "Confidence (' Anti-Virus', ' Speakers')->{' External Hard-Drive'} =  66.667 %\n",
      "Support(' Anti-Virus', ' Speakers')->{' External Hard-Drive'} =  9\n",
      "\n",
      "\n",
      "Confidence (' External Hard-Drive', ' Speakers')->{' Anti-Virus'} =  100.0 %\n",
      "Support(' External Hard-Drive', ' Speakers')->{' Anti-Virus'} =  6\n",
      "\n",
      "\n",
      "Confidence (' Anti-Virus', ' Flash Drive')->{' Lab Top Case'} =  83.333 %\n",
      "Support(' Anti-Virus', ' Flash Drive')->{' Lab Top Case'} =  6\n",
      "\n",
      "\n",
      "Confidence (' Flash Drive', ' Lab Top Case')->{' Anti-Virus'} =  100.0 %\n",
      "Support(' Flash Drive', ' Lab Top Case')->{' Anti-Virus'} =  5\n",
      "\n",
      "\n",
      "Confidence (' Anti-Virus', ' Flash Drive')->{' Microsoft Office'} =  83.333 %\n",
      "Support(' Anti-Virus', ' Flash Drive')->{' Microsoft Office'} =  6\n",
      "\n",
      "\n",
      "Confidence (' Anti-Virus', ' Microsoft Office')->{' Flash Drive'} =  71.429 %\n",
      "Support(' Anti-Virus', ' Microsoft Office')->{' Flash Drive'} =  7\n",
      "\n",
      "\n",
      "Confidence (' Flash Drive', ' Microsoft Office')->{' Anti-Virus'} =  62.5 %\n",
      "Support(' Flash Drive', ' Microsoft Office')->{' Anti-Virus'} =  8\n",
      "\n",
      "\n",
      "Confidence (' Anti-Virus', ' Microsoft Office')->{' Lab Top Case'} =  85.714 %\n",
      "Support(' Anti-Virus', ' Microsoft Office')->{' Lab Top Case'} =  7\n",
      "\n",
      "\n",
      "Confidence (' Lab Top Case', ' Microsoft Office')->{' Anti-Virus'} =  100.0 %\n",
      "Support(' Lab Top Case', ' Microsoft Office')->{' Anti-Virus'} =  6\n",
      "\n",
      "\n",
      "Confidence (' Anti-Virus', ' Lab Top Case')->{' Speakers'} =  72.727 %\n",
      "Support(' Anti-Virus', ' Lab Top Case')->{' Speakers'} =  11\n",
      "\n",
      "\n",
      "Confidence (' Anti-Virus', ' Speakers')->{' Lab Top Case'} =  88.889 %\n",
      "Support(' Anti-Virus', ' Speakers')->{' Lab Top Case'} =  9\n",
      "\n",
      "\n",
      "Confidence (' Lab Top Case', ' Speakers')->{' Anti-Virus'} =  100.0 %\n",
      "Support(' Lab Top Case', ' Speakers')->{' Anti-Virus'} =  8\n",
      "\n",
      "\n",
      "Confidence (' Anti-Virus', ' Microsoft Office')->{' Speakers'} =  85.714 %\n",
      "Support(' Anti-Virus', ' Microsoft Office')->{' Speakers'} =  7\n",
      "\n",
      "\n",
      "Confidence (' Anti-Virus', ' Speakers')->{' Microsoft Office'} =  66.667 %\n",
      "Support(' Anti-Virus', ' Speakers')->{' Microsoft Office'} =  9\n",
      "\n",
      "\n",
      "Confidence (' Microsoft Office', ' Speakers')->{' Anti-Virus'} =  100.0 %\n",
      "Support(' Microsoft Office', ' Speakers')->{' Anti-Virus'} =  6\n",
      "\n",
      "\n",
      "Confidence (' External Hard-Drive', ' Lab Top Case')->{' Microsoft Office'} =  62.5 %\n",
      "Support(' External Hard-Drive', ' Lab Top Case')->{' Microsoft Office'} =  8\n",
      "\n",
      "\n",
      "Confidence (' External Hard-Drive', ' Microsoft Office')->{' Lab Top Case'} =  100.0 %\n",
      "Support(' External Hard-Drive', ' Microsoft Office')->{' Lab Top Case'} =  5\n",
      "\n",
      "\n",
      "Confidence (' Lab Top Case', ' Microsoft Office')->{' External Hard-Drive'} =  83.333 %\n",
      "Support(' Lab Top Case', ' Microsoft Office')->{' External Hard-Drive'} =  6\n",
      "\n",
      "\n",
      "Confidence (' External Hard-Drive', ' Lab Top Case')->{' Speakers'} =  75.0 %\n",
      "Support(' External Hard-Drive', ' Lab Top Case')->{' Speakers'} =  8\n",
      "\n",
      "\n",
      "Confidence (' External Hard-Drive', ' Speakers')->{' Lab Top Case'} =  100.0 %\n",
      "Support(' External Hard-Drive', ' Speakers')->{' Lab Top Case'} =  6\n",
      "\n",
      "\n",
      "Confidence (' Lab Top Case', ' Speakers')->{' External Hard-Drive'} =  75.0 %\n",
      "Support(' Lab Top Case', ' Speakers')->{' External Hard-Drive'} =  8\n",
      "\n",
      "\n",
      "Confidence (' Lab Top Case', ' Microsoft Office')->{' Speakers'} =  83.333 %\n",
      "Support(' Lab Top Case', ' Microsoft Office')->{' Speakers'} =  6\n",
      "\n",
      "\n",
      "Confidence (' Lab Top Case', ' Speakers')->{' Microsoft Office'} =  62.5 %\n",
      "Support(' Lab Top Case', ' Speakers')->{' Microsoft Office'} =  8\n",
      "\n",
      "\n",
      "Confidence (' Microsoft Office', ' Speakers')->{' Lab Top Case'} =  83.333 %\n",
      "Support(' Microsoft Office', ' Speakers')->{' Lab Top Case'} =  6\n",
      "\n",
      "\n"
     ]
    }
   ],
   "source": [
    "itemlist = {**l1, **l2, **l3, **l4}\n",
    "\n",
    "def support_count(itemset, itemlist):\n",
    "    return itemlist[itemset]\n",
    "\n",
    "def print_sets():\n",
    "    print('Possible sets with just 1 item ',l1)\n",
    "\n",
    "sets = []\n",
    "for iter1 in list(l3.keys()):\n",
    "    subsets = list(itertools.combinations(iter1, 2))\n",
    "    sets.append(subsets)\n",
    "\n",
    "list_l3 = list(l3.keys())\n",
    "print('ASSOCIATION RULES : '+ '\\n')\n",
    "for i in range(0, len(list_l3)):\n",
    "    for iter1 in sets[i]:\n",
    "        a = iter1\n",
    "        b = set(list_l3[i]) - set(iter1)\n",
    "        confidence = (support_count(list_l3[i], itemlist)/support_count(iter1, itemlist))*100\n",
    "        support_i = support_count(iter1,itemlist)\n",
    "        if confidence > minimum_confi:\n",
    "            print(\"Confidence {}->{} = \".format(a,b), round(confidence,3),'%')\n",
    "            print('Support{}->{} = '.format(a,b),round(support_i,3))\n",
    "            print('\\n')\n",
    "#         print(\"Confidence{}->{} = \".format(a,b), confidence)"
   ]
  },
  {
   "cell_type": "markdown",
   "metadata": {},
   "source": [
    "# Dataset 2\n",
    "Note- (i=2 for dataset 2)\n"
   ]
  },
  {
   "cell_type": "code",
   "execution_count": 22,
   "metadata": {},
   "outputs": [
    {
     "name": "stdout",
     "output_type": "stream",
     "text": [
      "Enter any desired value 2\n"
     ]
    }
   ],
   "source": [
    "i = int(input('Enter any desired value '))\n",
    "if i == 1:\n",
    "    data = pd.read_csv('GroceryStoreDataSet.csv')\n",
    "if i ==2:\n",
    "    data = pd.read_csv('nike.csv')\n",
    "else:\n",
    "    data = pd.read_csv('flipkart.csv')"
   ]
  },
  {
   "cell_type": "code",
   "execution_count": 23,
   "metadata": {},
   "outputs": [
    {
     "data": {
      "text/html": [
       "<div>\n",
       "<style scoped>\n",
       "    .dataframe tbody tr th:only-of-type {\n",
       "        vertical-align: middle;\n",
       "    }\n",
       "\n",
       "    .dataframe tbody tr th {\n",
       "        vertical-align: top;\n",
       "    }\n",
       "\n",
       "    .dataframe thead th {\n",
       "        text-align: right;\n",
       "    }\n",
       "</style>\n",
       "<table border=\"1\" class=\"dataframe\">\n",
       "  <thead>\n",
       "    <tr style=\"text-align: right;\">\n",
       "      <th></th>\n",
       "      <th>Item 1</th>\n",
       "      <th>Item 2</th>\n",
       "      <th>Item 3</th>\n",
       "      <th>Item 4</th>\n",
       "      <th>Item 5</th>\n",
       "      <th>Item 6</th>\n",
       "      <th>Item 7</th>\n",
       "      <th>Item 8</th>\n",
       "      <th>Item 9</th>\n",
       "      <th>Item 10</th>\n",
       "    </tr>\n",
       "  </thead>\n",
       "  <tbody>\n",
       "    <tr>\n",
       "      <th>0</th>\n",
       "      <td>Running Shoe</td>\n",
       "      <td>Socks</td>\n",
       "      <td>Sweatshirts</td>\n",
       "      <td>Modern Pants</td>\n",
       "      <td>NaN</td>\n",
       "      <td>NaN</td>\n",
       "      <td>NaN</td>\n",
       "      <td>NaN</td>\n",
       "      <td>NaN</td>\n",
       "      <td>NaN</td>\n",
       "    </tr>\n",
       "    <tr>\n",
       "      <th>1</th>\n",
       "      <td>Running Shoe</td>\n",
       "      <td>Socks</td>\n",
       "      <td>Sweatshirts</td>\n",
       "      <td>NaN</td>\n",
       "      <td>NaN</td>\n",
       "      <td>NaN</td>\n",
       "      <td>NaN</td>\n",
       "      <td>NaN</td>\n",
       "      <td>NaN</td>\n",
       "      <td>NaN</td>\n",
       "    </tr>\n",
       "    <tr>\n",
       "      <th>2</th>\n",
       "      <td>Running Shoe</td>\n",
       "      <td>Socks</td>\n",
       "      <td>Sweatshirts</td>\n",
       "      <td>Modern Pants</td>\n",
       "      <td>NaN</td>\n",
       "      <td>NaN</td>\n",
       "      <td>NaN</td>\n",
       "      <td>NaN</td>\n",
       "      <td>NaN</td>\n",
       "      <td>NaN</td>\n",
       "    </tr>\n",
       "    <tr>\n",
       "      <th>3</th>\n",
       "      <td>Running Shoe</td>\n",
       "      <td>Sweatshirts</td>\n",
       "      <td>Modern Pants</td>\n",
       "      <td>NaN</td>\n",
       "      <td>NaN</td>\n",
       "      <td>NaN</td>\n",
       "      <td>NaN</td>\n",
       "      <td>NaN</td>\n",
       "      <td>NaN</td>\n",
       "      <td>NaN</td>\n",
       "    </tr>\n",
       "    <tr>\n",
       "      <th>4</th>\n",
       "      <td>Running Shoe</td>\n",
       "      <td>Socks</td>\n",
       "      <td>Sweatshirts</td>\n",
       "      <td>Modern Pants</td>\n",
       "      <td>Soccer Shoe</td>\n",
       "      <td>NaN</td>\n",
       "      <td>NaN</td>\n",
       "      <td>NaN</td>\n",
       "      <td>NaN</td>\n",
       "      <td>NaN</td>\n",
       "    </tr>\n",
       "  </tbody>\n",
       "</table>\n",
       "</div>"
      ],
      "text/plain": [
       "        Item 1        Item 2          Item 3         Item 4         Item 5  \\\n",
       "0  Running Shoe         Socks    Sweatshirts   Modern Pants            NaN   \n",
       "1  Running Shoe         Socks    Sweatshirts            NaN            NaN   \n",
       "2  Running Shoe         Socks    Sweatshirts   Modern Pants            NaN   \n",
       "3  Running Shoe   Sweatshirts   Modern Pants            NaN            NaN   \n",
       "4  Running Shoe         Socks    Sweatshirts   Modern Pants   Soccer Shoe    \n",
       "\n",
       "  Item 6 Item 7 Item 8 Item 9 Item 10  \n",
       "0    NaN    NaN    NaN    NaN     NaN  \n",
       "1    NaN    NaN    NaN    NaN     NaN  \n",
       "2    NaN    NaN    NaN    NaN     NaN  \n",
       "3    NaN    NaN    NaN    NaN     NaN  \n",
       "4    NaN    NaN    NaN    NaN     NaN  "
      ]
     },
     "execution_count": 23,
     "metadata": {},
     "output_type": "execute_result"
    }
   ],
   "source": [
    "data.head()"
   ]
  },
  {
   "cell_type": "code",
   "execution_count": 24,
   "metadata": {},
   "outputs": [
    {
     "data": {
      "text/html": [
       "<div>\n",
       "<style scoped>\n",
       "    .dataframe tbody tr th:only-of-type {\n",
       "        vertical-align: middle;\n",
       "    }\n",
       "\n",
       "    .dataframe tbody tr th {\n",
       "        vertical-align: top;\n",
       "    }\n",
       "\n",
       "    .dataframe thead th {\n",
       "        text-align: right;\n",
       "    }\n",
       "</style>\n",
       "<table border=\"1\" class=\"dataframe\">\n",
       "  <thead>\n",
       "    <tr style=\"text-align: right;\">\n",
       "      <th></th>\n",
       "      <th>Item 1</th>\n",
       "      <th>Item 2</th>\n",
       "      <th>Item 3</th>\n",
       "      <th>Item 4</th>\n",
       "      <th>Item 5</th>\n",
       "      <th>Item 6</th>\n",
       "      <th>Item 7</th>\n",
       "      <th>Item 8</th>\n",
       "      <th>Item 9</th>\n",
       "      <th>Item 10</th>\n",
       "    </tr>\n",
       "  </thead>\n",
       "  <tbody>\n",
       "    <tr>\n",
       "      <th>15</th>\n",
       "      <td>Swimming Shirt</td>\n",
       "      <td>Soccer Shoe</td>\n",
       "      <td>Hoodies</td>\n",
       "      <td>Dry Fit V-Nick</td>\n",
       "      <td>Tech Pants</td>\n",
       "      <td>Rash Guard</td>\n",
       "      <td>NaN</td>\n",
       "      <td>NaN</td>\n",
       "      <td>NaN</td>\n",
       "      <td>NaN</td>\n",
       "    </tr>\n",
       "    <tr>\n",
       "      <th>16</th>\n",
       "      <td>Running Shoe</td>\n",
       "      <td>Socks</td>\n",
       "      <td>NaN</td>\n",
       "      <td>NaN</td>\n",
       "      <td>NaN</td>\n",
       "      <td>NaN</td>\n",
       "      <td>NaN</td>\n",
       "      <td>NaN</td>\n",
       "      <td>NaN</td>\n",
       "      <td>NaN</td>\n",
       "    </tr>\n",
       "    <tr>\n",
       "      <th>17</th>\n",
       "      <td>Socks</td>\n",
       "      <td>Sweatshirts</td>\n",
       "      <td>Modern Pants</td>\n",
       "      <td>Soccer Shoe</td>\n",
       "      <td>Hoodies</td>\n",
       "      <td>Rash Guard</td>\n",
       "      <td>Tech Pants</td>\n",
       "      <td>Dry Fit V-Nick</td>\n",
       "      <td>NaN</td>\n",
       "      <td>NaN</td>\n",
       "    </tr>\n",
       "    <tr>\n",
       "      <th>18</th>\n",
       "      <td>Running Shoe</td>\n",
       "      <td>Swimming Shirt</td>\n",
       "      <td>Rash Guard</td>\n",
       "      <td>NaN</td>\n",
       "      <td>NaN</td>\n",
       "      <td>NaN</td>\n",
       "      <td>NaN</td>\n",
       "      <td>NaN</td>\n",
       "      <td>NaN</td>\n",
       "      <td>NaN</td>\n",
       "    </tr>\n",
       "    <tr>\n",
       "      <th>19</th>\n",
       "      <td>Running Shoe</td>\n",
       "      <td>Swimming Shirt</td>\n",
       "      <td>Socks</td>\n",
       "      <td>Sweatshirts</td>\n",
       "      <td>Modern Pants</td>\n",
       "      <td>Soccer Shoe</td>\n",
       "      <td>Hoodies</td>\n",
       "      <td>Tech Pants</td>\n",
       "      <td>Rash Guard</td>\n",
       "      <td>Dry Fit V-Nick</td>\n",
       "    </tr>\n",
       "  </tbody>\n",
       "</table>\n",
       "</div>"
      ],
      "text/plain": [
       "           Item 1           Item 2          Item 3           Item 4  \\\n",
       "15  Swimming Shirt      Soccer Shoe        Hoodies   Dry Fit V-Nick   \n",
       "16    Running Shoe            Socks            NaN              NaN   \n",
       "17           Socks      Sweatshirts   Modern Pants      Soccer Shoe   \n",
       "18    Running Shoe   Swimming Shirt     Rash Guard              NaN   \n",
       "19    Running Shoe   Swimming Shirt          Socks      Sweatshirts   \n",
       "\n",
       "           Item 5        Item 6       Item 7           Item 8       Item 9  \\\n",
       "15     Tech Pants    Rash Guard          NaN              NaN          NaN   \n",
       "16            NaN           NaN          NaN              NaN          NaN   \n",
       "17        Hoodies    Rash Guard   Tech Pants   Dry Fit V-Nick          NaN   \n",
       "18            NaN           NaN          NaN              NaN          NaN   \n",
       "19   Modern Pants   Soccer Shoe      Hoodies       Tech Pants   Rash Guard   \n",
       "\n",
       "            Item 10  \n",
       "15              NaN  \n",
       "16              NaN  \n",
       "17              NaN  \n",
       "18              NaN  \n",
       "19   Dry Fit V-Nick  "
      ]
     },
     "execution_count": 24,
     "metadata": {},
     "output_type": "execute_result"
    }
   ],
   "source": [
    "data.tail()"
   ]
  },
  {
   "cell_type": "code",
   "execution_count": 25,
   "metadata": {},
   "outputs": [
    {
     "data": {
      "text/plain": [
       "(20, 10)"
      ]
     },
     "execution_count": 25,
     "metadata": {},
     "output_type": "execute_result"
    }
   ],
   "source": [
    "data.shape"
   ]
  },
  {
   "cell_type": "markdown",
   "metadata": {},
   "source": [
    "## List of all unique items in each transaction"
   ]
  },
  {
   "cell_type": "code",
   "execution_count": 26,
   "metadata": {},
   "outputs": [
    {
     "name": "stdout",
     "output_type": "stream",
     "text": [
      "List of Unique Items in Transaction : 0 \n",
      "['Running Shoe' ' Socks' ' Sweatshirts' ' Modern Pants']  \n",
      "\n",
      "List of Unique Items in Transaction : 1 \n",
      "['Running Shoe' ' Socks' ' Sweatshirts']  \n",
      "\n",
      "List of Unique Items in Transaction : 2 \n",
      "['Running Shoe' ' Socks' ' Sweatshirts' ' Modern Pants']  \n",
      "\n",
      "List of Unique Items in Transaction : 3 \n",
      "['Running Shoe' ' Sweatshirts' ' Modern Pants']  \n",
      "\n",
      "List of Unique Items in Transaction : 4 \n",
      "['Running Shoe' ' Socks' ' Sweatshirts' ' Modern Pants' ' Soccer Shoe ']  \n",
      "\n",
      "List of Unique Items in Transaction : 5 \n",
      "['Running Shoe' ' Socks' ' Sweatshirts']  \n",
      "\n",
      "List of Unique Items in Transaction : 6 \n",
      "['Running Shoe' ' Socks' ' Sweatshirts' ' Modern Pants' ' Tech Pants'\n",
      " ' Rash Guard' ' Hoodies']  \n",
      "\n",
      "List of Unique Items in Transaction : 7 \n",
      "['Swimming Shirt' ' Socks' ' Sweatshirts']  \n",
      "\n",
      "List of Unique Items in Transaction : 8 \n",
      "['Swimming Shirt' ' Rash Guard' ' Dry Fit V-Nick' ' Hoodies' ' Tech Pants']  \n",
      "\n",
      "List of Unique Items in Transaction : 9 \n",
      "['Swimming Shirt' ' Rash Guard' ' Dry']  \n",
      "\n",
      "List of Unique Items in Transaction : 10 \n",
      "['Swimming Shirt' ' Rash Guard' ' Dry Fit V-Nick']  \n",
      "\n",
      "List of Unique Items in Transaction : 11 \n",
      "[' Running Shoe' ' Swimming Shirt' ' Socks' ' Sweatshirts' ' Modern Pants'\n",
      " ' Soccer Shoe' ' Rash Guard' ' Hoodies' ' Tech Pants' ' Dry Fit V-Nick']  \n",
      "\n",
      "List of Unique Items in Transaction : 12 \n",
      "['Running Shoe' ' Swimming Shirt' ' Socks' ' Sweatshirts' ' Modern Pants'\n",
      " ' Soccer Shoe' ' Rash Guard' ' Tech Pants' ' Dry Fit V-Nick' ' Hoodies']  \n",
      "\n",
      "List of Unique Items in Transaction : 13 \n",
      "['Running Shoe' ' Swimming Shirt' ' Rash Guard' ' Tech Pants' ' Hoodies'\n",
      " ' Dry Fit V-Nick']  \n",
      "\n",
      "List of Unique Items in Transaction : 14 \n",
      "['Running Shoe' ' Swimming Shirt' ' Socks' ' Sweatshirts' ' Modern Pants'\n",
      " ' Dry Fit V-Nick' ' Rash Guard' ' Tech Pants']  \n",
      "\n",
      "List of Unique Items in Transaction : 15 \n",
      "['Swimming Shirt' ' Soccer Shoe' ' Hoodies' ' Dry Fit V-Nick'\n",
      " ' Tech Pants' ' Rash Guard']  \n",
      "\n",
      "List of Unique Items in Transaction : 16 \n",
      "['Running Shoe' ' Socks']  \n",
      "\n",
      "List of Unique Items in Transaction : 17 \n",
      "['Socks' ' Sweatshirts' ' Modern Pants' ' Soccer Shoe' ' Hoodies'\n",
      " ' Rash Guard' ' Tech Pants' ' Dry Fit V-Nick']  \n",
      "\n",
      "List of Unique Items in Transaction : 18 \n",
      "['Running Shoe' ' Swimming Shirt' ' Rash Guard']  \n",
      "\n",
      "List of Unique Items in Transaction : 19 \n",
      "['Running Shoe' ' Swimming Shirt' ' Socks' ' Sweatshirts' ' Modern Pants'\n",
      " ' Soccer Shoe' ' Hoodies' ' Tech Pants' ' Rash Guard' ' Dry Fit V-Nick']  \n",
      "\n"
     ]
    }
   ],
   "source": [
    "for i in range(data.shape[0]):\n",
    "    print(f'List of Unique Items in Transaction : {i} ')\n",
    "    print(data.iloc[i].dropna().unique(),' \\n')"
   ]
  },
  {
   "cell_type": "code",
   "execution_count": 27,
   "metadata": {},
   "outputs": [
    {
     "name": "stdout",
     "output_type": "stream",
     "text": [
      "Total no. of transactions in this Nike set 20\n"
     ]
    }
   ],
   "source": [
    "print(f'Total no. of transactions in this Nike set {data.shape[0]}')"
   ]
  },
  {
   "cell_type": "code",
   "execution_count": 28,
   "metadata": {},
   "outputs": [
    {
     "name": "stdout",
     "output_type": "stream",
     "text": [
      "enter any value for min support count 5\n"
     ]
    }
   ],
   "source": [
    "minimum_s_count = float(input('enter any value for min support count '))"
   ]
  },
  {
   "cell_type": "code",
   "execution_count": 29,
   "metadata": {},
   "outputs": [
    {
     "name": "stdout",
     "output_type": "stream",
     "text": [
      "Enter any desired value for confidence 54\n"
     ]
    }
   ],
   "source": [
    "minimum_confi = float(input('Enter any desired value for confidence '))"
   ]
  },
  {
   "cell_type": "code",
   "execution_count": 30,
   "metadata": {},
   "outputs": [],
   "source": [
    "records = []\n",
    "for i in range(0, data.shape[0]):\n",
    "    records.append([str(data.values[i,j]) for j in range(0, data.shape[1])])\n",
    "\n",
    "items = sorted([item for sublist in records for item in sublist if item != 'nan'])"
   ]
  },
  {
   "cell_type": "markdown",
   "metadata": {},
   "source": [
    "## List of Unique itemsets in this dataset"
   ]
  },
  {
   "cell_type": "code",
   "execution_count": 31,
   "metadata": {},
   "outputs": [
    {
     "data": {
      "text/plain": [
       "{' Dry',\n",
       " ' Dry Fit V-Nick',\n",
       " ' Hoodies',\n",
       " ' Modern Pants',\n",
       " ' Rash Guard',\n",
       " ' Running Shoe',\n",
       " ' Soccer Shoe',\n",
       " ' Soccer Shoe ',\n",
       " ' Socks',\n",
       " ' Sweatshirts',\n",
       " ' Swimming Shirt',\n",
       " ' Tech Pants',\n",
       " 'Running Shoe',\n",
       " 'Socks',\n",
       " 'Swimming Shirt'}"
      ]
     },
     "execution_count": 31,
     "metadata": {},
     "output_type": "execute_result"
    }
   ],
   "source": [
    "set(items)"
   ]
  },
  {
   "cell_type": "code",
   "execution_count": 32,
   "metadata": {},
   "outputs": [],
   "source": [
    "# To get a single item with their overall count in all transactions given.\n",
    "\n",
    "def stage_1(items, minimum_s_count):\n",
    "    c1 = {i:items.count(i) for i in items}\n",
    "    l1 = {}\n",
    "    for key, value in c1.items():\n",
    "        if value >= minimum_s_count:\n",
    "            l1[key] = value \n",
    "    \n",
    "    return c1, l1"
   ]
  },
  {
   "cell_type": "code",
   "execution_count": 33,
   "metadata": {},
   "outputs": [],
   "source": [
    "# To get sets of 2 items with their overall count in all transactions given.\n",
    "def stage_2(l1, records, minimum_s_count):\n",
    "    l1 = sorted(list(l1.keys()))\n",
    "    L1 = list(itertools.combinations(l1, 2))              # To make all possible combinations of 2 items\n",
    "    c2 = {}\n",
    "    l2 = {}\n",
    "    for iter1 in L1:\n",
    "        count = 0\n",
    "        for iter2 in records:\n",
    "            if sublist(iter1, iter2):\n",
    "                count+=1\n",
    "        c2[iter1] = count\n",
    "    for key, value in c2.items():\n",
    "        if value >= minimum_s_count:\n",
    "            if check_subset_frequency(key, l1, 1):\n",
    "                l2[key] = value \n",
    "    \n",
    "    return c2, l2"
   ]
  },
  {
   "cell_type": "code",
   "execution_count": 34,
   "metadata": {},
   "outputs": [],
   "source": [
    "# To get sets of 3 items with their overall count in all transactions given.    \n",
    "def stage_3(l2, records, minimum_s_count):\n",
    "    l2 = list(l2.keys())\n",
    "    L2 = sorted(list(set([item for t in l2 for item in t])))\n",
    "    L2 = list(itertools.combinations(L2, 3))           # To make all possible combinations of 3 items\n",
    "    c3 = {}\n",
    "    l3 = {}\n",
    "    for iter1 in L2:\n",
    "        count = 0\n",
    "        for iter2 in records:\n",
    "            if sublist(iter1, iter2):\n",
    "                count+=1\n",
    "        c3[iter1] = count\n",
    "    for key, value in c3.items():\n",
    "        if value >= minimum_s_count:\n",
    "            if check_subset_frequency(key, l2, 2):\n",
    "                l3[key] = value \n",
    "        \n",
    "    return c3, l3"
   ]
  },
  {
   "cell_type": "code",
   "execution_count": 35,
   "metadata": {},
   "outputs": [],
   "source": [
    "# To get sets of 4 items with their overall count in all transactions given.\n",
    "def stage_4(l3, records, minimum_s_count):\n",
    "    l3 = list(l3.keys())\n",
    "    L3 = sorted(list(set([item for t in l3 for item in t])))\n",
    "    L3 = list(itertools.combinations(L3, 4))             # To make all possible combinations of 4 items\n",
    "    c4 = {}\n",
    "    l4 = {}\n",
    "    for iter1 in L3:\n",
    "        count = 0\n",
    "        for iter2 in records:\n",
    "            if sublist(iter1, iter2):\n",
    "                count+=1\n",
    "        c4[iter1] = count\n",
    "    for key, value in c4.items():\n",
    "        if value >= minimum_s_count:\n",
    "            if check_subset_frequency(key, l3, 3):\n",
    "                l4[key] = value \n",
    "        \n",
    "    return c4, l4"
   ]
  },
  {
   "cell_type": "code",
   "execution_count": 36,
   "metadata": {},
   "outputs": [],
   "source": [
    "def sublist(lst1, lst2):\n",
    "    return set(lst1) <= set(lst2)\n",
    "    \n",
    "def check_subset_frequency(itemset, l, n):\n",
    "    if n>1:    \n",
    "        subsets = list(itertools.combinations(itemset, n))\n",
    "    else:\n",
    "        subsets = itemset\n",
    "    for iter1 in subsets:\n",
    "        if not iter1 in l:\n",
    "            return False\n",
    "    return True"
   ]
  },
  {
   "cell_type": "markdown",
   "metadata": {},
   "source": [
    "## Below part prints all L1,L2,L3\n",
    "\n",
    "##### All of them have pairs of 1 item, 2 items, 3 items respectively following minimum support decided by user above"
   ]
  },
  {
   "cell_type": "code",
   "execution_count": 37,
   "metadata": {},
   "outputs": [],
   "source": [
    "c1, l1 = stage_1(items, minimum_s_count)\n",
    "c2, l2 = stage_2(l1, records, minimum_s_count)\n",
    "c3, l3 = stage_3(l2, records, minimum_s_count)\n",
    "c4, l4 = stage_4(l3, records, minimum_s_count)"
   ]
  },
  {
   "cell_type": "code",
   "execution_count": 38,
   "metadata": {},
   "outputs": [
    {
     "name": "stdout",
     "output_type": "stream",
     "text": [
      " Dry Fit V-Nick  :  9\n",
      " Hoodies  :  8\n",
      " Modern Pants  :  10\n",
      " Rash Guard  :  12\n",
      " Soccer Shoe  :  5\n",
      " Socks  :  12\n",
      " Sweatshirts  :  13\n",
      " Swimming Shirt  :  6\n",
      " Tech Pants  :  9\n",
      "Running Shoe  :  13\n",
      "Swimming Shirt  :  5\n"
     ]
    }
   ],
   "source": [
    "for key, value in l1.items():\n",
    "    print(key, ' : ', value)"
   ]
  },
  {
   "cell_type": "code",
   "execution_count": 39,
   "metadata": {},
   "outputs": [
    {
     "name": "stdout",
     "output_type": "stream",
     "text": [
      "(' Dry Fit V-Nick', ' Hoodies')  :  7\n",
      "(' Dry Fit V-Nick', ' Modern Pants')  :  5\n",
      "(' Dry Fit V-Nick', ' Rash Guard')  :  9\n",
      "(' Dry Fit V-Nick', ' Soccer Shoe')  :  5\n",
      "(' Dry Fit V-Nick', ' Sweatshirts')  :  5\n",
      "(' Dry Fit V-Nick', ' Swimming Shirt')  :  5\n",
      "(' Dry Fit V-Nick', ' Tech Pants')  :  8\n",
      "(' Hoodies', ' Modern Pants')  :  5\n",
      "(' Hoodies', ' Rash Guard')  :  8\n",
      "(' Hoodies', ' Soccer Shoe')  :  5\n",
      "(' Hoodies', ' Sweatshirts')  :  5\n",
      "(' Hoodies', ' Tech Pants')  :  8\n",
      "(' Modern Pants', ' Rash Guard')  :  6\n",
      "(' Modern Pants', ' Socks')  :  8\n",
      "(' Modern Pants', ' Sweatshirts')  :  10\n",
      "(' Modern Pants', ' Tech Pants')  :  6\n",
      "(' Modern Pants', 'Running Shoe')  :  8\n",
      "(' Rash Guard', ' Soccer Shoe')  :  5\n",
      "(' Rash Guard', ' Socks')  :  5\n",
      "(' Rash Guard', ' Sweatshirts')  :  6\n",
      "(' Rash Guard', ' Swimming Shirt')  :  6\n",
      "(' Rash Guard', ' Tech Pants')  :  9\n",
      "(' Rash Guard', 'Running Shoe')  :  6\n",
      "(' Soccer Shoe', ' Tech Pants')  :  5\n",
      "(' Socks', ' Sweatshirts')  :  11\n",
      "(' Socks', ' Tech Pants')  :  5\n",
      "(' Socks', 'Running Shoe')  :  10\n",
      "(' Sweatshirts', ' Tech Pants')  :  6\n",
      "(' Sweatshirts', 'Running Shoe')  :  10\n",
      "(' Swimming Shirt', ' Tech Pants')  :  5\n",
      "(' Swimming Shirt', 'Running Shoe')  :  5\n",
      "(' Tech Pants', 'Running Shoe')  :  5\n"
     ]
    }
   ],
   "source": [
    "for key, value in l2.items():\n",
    "    print(key, ' : ', value)"
   ]
  },
  {
   "cell_type": "code",
   "execution_count": 40,
   "metadata": {},
   "outputs": [
    {
     "name": "stdout",
     "output_type": "stream",
     "text": [
      "(' Dry Fit V-Nick', ' Hoodies', ' Rash Guard')  :  7\n",
      "(' Dry Fit V-Nick', ' Hoodies', ' Soccer Shoe')  :  5\n",
      "(' Dry Fit V-Nick', ' Hoodies', ' Tech Pants')  :  7\n",
      "(' Dry Fit V-Nick', ' Modern Pants', ' Rash Guard')  :  5\n",
      "(' Dry Fit V-Nick', ' Modern Pants', ' Sweatshirts')  :  5\n",
      "(' Dry Fit V-Nick', ' Modern Pants', ' Tech Pants')  :  5\n",
      "(' Dry Fit V-Nick', ' Rash Guard', ' Soccer Shoe')  :  5\n",
      "(' Dry Fit V-Nick', ' Rash Guard', ' Sweatshirts')  :  5\n",
      "(' Dry Fit V-Nick', ' Rash Guard', ' Swimming Shirt')  :  5\n",
      "(' Dry Fit V-Nick', ' Rash Guard', ' Tech Pants')  :  8\n",
      "(' Dry Fit V-Nick', ' Soccer Shoe', ' Tech Pants')  :  5\n",
      "(' Dry Fit V-Nick', ' Sweatshirts', ' Tech Pants')  :  5\n",
      "(' Dry Fit V-Nick', ' Swimming Shirt', ' Tech Pants')  :  5\n",
      "(' Hoodies', ' Modern Pants', ' Rash Guard')  :  5\n",
      "(' Hoodies', ' Modern Pants', ' Sweatshirts')  :  5\n",
      "(' Hoodies', ' Modern Pants', ' Tech Pants')  :  5\n",
      "(' Hoodies', ' Rash Guard', ' Soccer Shoe')  :  5\n",
      "(' Hoodies', ' Rash Guard', ' Sweatshirts')  :  5\n",
      "(' Hoodies', ' Rash Guard', ' Tech Pants')  :  8\n",
      "(' Hoodies', ' Soccer Shoe', ' Tech Pants')  :  5\n",
      "(' Hoodies', ' Sweatshirts', ' Tech Pants')  :  5\n",
      "(' Modern Pants', ' Rash Guard', ' Socks')  :  5\n",
      "(' Modern Pants', ' Rash Guard', ' Sweatshirts')  :  6\n",
      "(' Modern Pants', ' Rash Guard', ' Tech Pants')  :  6\n",
      "(' Modern Pants', ' Socks', ' Sweatshirts')  :  8\n",
      "(' Modern Pants', ' Socks', ' Tech Pants')  :  5\n",
      "(' Modern Pants', ' Socks', 'Running Shoe')  :  7\n",
      "(' Modern Pants', ' Sweatshirts', ' Tech Pants')  :  6\n",
      "(' Modern Pants', ' Sweatshirts', 'Running Shoe')  :  8\n",
      "(' Rash Guard', ' Soccer Shoe', ' Tech Pants')  :  5\n",
      "(' Rash Guard', ' Socks', ' Sweatshirts')  :  5\n",
      "(' Rash Guard', ' Socks', ' Tech Pants')  :  5\n",
      "(' Rash Guard', ' Sweatshirts', ' Tech Pants')  :  6\n",
      "(' Rash Guard', ' Swimming Shirt', ' Tech Pants')  :  5\n",
      "(' Rash Guard', ' Swimming Shirt', 'Running Shoe')  :  5\n",
      "(' Rash Guard', ' Tech Pants', 'Running Shoe')  :  5\n",
      "(' Socks', ' Sweatshirts', ' Tech Pants')  :  5\n",
      "(' Socks', ' Sweatshirts', 'Running Shoe')  :  9\n"
     ]
    }
   ],
   "source": [
    "for key, value in l3.items():\n",
    "    print(key, ' : ', value)"
   ]
  },
  {
   "cell_type": "markdown",
   "metadata": {},
   "source": [
    "## Print Association Rules\n",
    "\n",
    "###### (with their Minimum support & minimum confidence)"
   ]
  },
  {
   "cell_type": "code",
   "execution_count": 41,
   "metadata": {},
   "outputs": [
    {
     "name": "stdout",
     "output_type": "stream",
     "text": [
      "ASSOCIATION RULES : \n",
      "\n",
      "Confidence (' Dry Fit V-Nick', ' Hoodies')->{' Rash Guard'} =  100.0 %\n",
      "Support(' Dry Fit V-Nick', ' Hoodies')->{' Rash Guard'} =  7\n",
      "\n",
      "\n",
      "Confidence (' Dry Fit V-Nick', ' Rash Guard')->{' Hoodies'} =  77.778 %\n",
      "Support(' Dry Fit V-Nick', ' Rash Guard')->{' Hoodies'} =  9\n",
      "\n",
      "\n",
      "Confidence (' Hoodies', ' Rash Guard')->{' Dry Fit V-Nick'} =  87.5 %\n",
      "Support(' Hoodies', ' Rash Guard')->{' Dry Fit V-Nick'} =  8\n",
      "\n",
      "\n",
      "Confidence (' Dry Fit V-Nick', ' Hoodies')->{' Soccer Shoe'} =  71.429 %\n",
      "Support(' Dry Fit V-Nick', ' Hoodies')->{' Soccer Shoe'} =  7\n",
      "\n",
      "\n",
      "Confidence (' Dry Fit V-Nick', ' Soccer Shoe')->{' Hoodies'} =  100.0 %\n",
      "Support(' Dry Fit V-Nick', ' Soccer Shoe')->{' Hoodies'} =  5\n",
      "\n",
      "\n",
      "Confidence (' Hoodies', ' Soccer Shoe')->{' Dry Fit V-Nick'} =  100.0 %\n",
      "Support(' Hoodies', ' Soccer Shoe')->{' Dry Fit V-Nick'} =  5\n",
      "\n",
      "\n",
      "Confidence (' Dry Fit V-Nick', ' Hoodies')->{' Tech Pants'} =  100.0 %\n",
      "Support(' Dry Fit V-Nick', ' Hoodies')->{' Tech Pants'} =  7\n",
      "\n",
      "\n",
      "Confidence (' Dry Fit V-Nick', ' Tech Pants')->{' Hoodies'} =  87.5 %\n",
      "Support(' Dry Fit V-Nick', ' Tech Pants')->{' Hoodies'} =  8\n",
      "\n",
      "\n",
      "Confidence (' Hoodies', ' Tech Pants')->{' Dry Fit V-Nick'} =  87.5 %\n",
      "Support(' Hoodies', ' Tech Pants')->{' Dry Fit V-Nick'} =  8\n",
      "\n",
      "\n",
      "Confidence (' Dry Fit V-Nick', ' Modern Pants')->{' Rash Guard'} =  100.0 %\n",
      "Support(' Dry Fit V-Nick', ' Modern Pants')->{' Rash Guard'} =  5\n",
      "\n",
      "\n",
      "Confidence (' Dry Fit V-Nick', ' Rash Guard')->{' Modern Pants'} =  55.556 %\n",
      "Support(' Dry Fit V-Nick', ' Rash Guard')->{' Modern Pants'} =  9\n",
      "\n",
      "\n",
      "Confidence (' Modern Pants', ' Rash Guard')->{' Dry Fit V-Nick'} =  83.333 %\n",
      "Support(' Modern Pants', ' Rash Guard')->{' Dry Fit V-Nick'} =  6\n",
      "\n",
      "\n",
      "Confidence (' Dry Fit V-Nick', ' Modern Pants')->{' Sweatshirts'} =  100.0 %\n",
      "Support(' Dry Fit V-Nick', ' Modern Pants')->{' Sweatshirts'} =  5\n",
      "\n",
      "\n",
      "Confidence (' Dry Fit V-Nick', ' Sweatshirts')->{' Modern Pants'} =  100.0 %\n",
      "Support(' Dry Fit V-Nick', ' Sweatshirts')->{' Modern Pants'} =  5\n",
      "\n",
      "\n",
      "Confidence (' Dry Fit V-Nick', ' Modern Pants')->{' Tech Pants'} =  100.0 %\n",
      "Support(' Dry Fit V-Nick', ' Modern Pants')->{' Tech Pants'} =  5\n",
      "\n",
      "\n",
      "Confidence (' Dry Fit V-Nick', ' Tech Pants')->{' Modern Pants'} =  62.5 %\n",
      "Support(' Dry Fit V-Nick', ' Tech Pants')->{' Modern Pants'} =  8\n",
      "\n",
      "\n",
      "Confidence (' Modern Pants', ' Tech Pants')->{' Dry Fit V-Nick'} =  83.333 %\n",
      "Support(' Modern Pants', ' Tech Pants')->{' Dry Fit V-Nick'} =  6\n",
      "\n",
      "\n",
      "Confidence (' Dry Fit V-Nick', ' Rash Guard')->{' Soccer Shoe'} =  55.556 %\n",
      "Support(' Dry Fit V-Nick', ' Rash Guard')->{' Soccer Shoe'} =  9\n",
      "\n",
      "\n",
      "Confidence (' Dry Fit V-Nick', ' Soccer Shoe')->{' Rash Guard'} =  100.0 %\n",
      "Support(' Dry Fit V-Nick', ' Soccer Shoe')->{' Rash Guard'} =  5\n",
      "\n",
      "\n",
      "Confidence (' Rash Guard', ' Soccer Shoe')->{' Dry Fit V-Nick'} =  100.0 %\n",
      "Support(' Rash Guard', ' Soccer Shoe')->{' Dry Fit V-Nick'} =  5\n",
      "\n",
      "\n",
      "Confidence (' Dry Fit V-Nick', ' Rash Guard')->{' Sweatshirts'} =  55.556 %\n",
      "Support(' Dry Fit V-Nick', ' Rash Guard')->{' Sweatshirts'} =  9\n",
      "\n",
      "\n",
      "Confidence (' Dry Fit V-Nick', ' Sweatshirts')->{' Rash Guard'} =  100.0 %\n",
      "Support(' Dry Fit V-Nick', ' Sweatshirts')->{' Rash Guard'} =  5\n",
      "\n",
      "\n",
      "Confidence (' Rash Guard', ' Sweatshirts')->{' Dry Fit V-Nick'} =  83.333 %\n",
      "Support(' Rash Guard', ' Sweatshirts')->{' Dry Fit V-Nick'} =  6\n",
      "\n",
      "\n",
      "Confidence (' Dry Fit V-Nick', ' Rash Guard')->{' Swimming Shirt'} =  55.556 %\n",
      "Support(' Dry Fit V-Nick', ' Rash Guard')->{' Swimming Shirt'} =  9\n",
      "\n",
      "\n",
      "Confidence (' Dry Fit V-Nick', ' Swimming Shirt')->{' Rash Guard'} =  100.0 %\n",
      "Support(' Dry Fit V-Nick', ' Swimming Shirt')->{' Rash Guard'} =  5\n",
      "\n",
      "\n",
      "Confidence (' Rash Guard', ' Swimming Shirt')->{' Dry Fit V-Nick'} =  83.333 %\n",
      "Support(' Rash Guard', ' Swimming Shirt')->{' Dry Fit V-Nick'} =  6\n",
      "\n",
      "\n",
      "Confidence (' Dry Fit V-Nick', ' Rash Guard')->{' Tech Pants'} =  88.889 %\n",
      "Support(' Dry Fit V-Nick', ' Rash Guard')->{' Tech Pants'} =  9\n",
      "\n",
      "\n",
      "Confidence (' Dry Fit V-Nick', ' Tech Pants')->{' Rash Guard'} =  100.0 %\n",
      "Support(' Dry Fit V-Nick', ' Tech Pants')->{' Rash Guard'} =  8\n",
      "\n",
      "\n",
      "Confidence (' Rash Guard', ' Tech Pants')->{' Dry Fit V-Nick'} =  88.889 %\n",
      "Support(' Rash Guard', ' Tech Pants')->{' Dry Fit V-Nick'} =  9\n",
      "\n",
      "\n",
      "Confidence (' Dry Fit V-Nick', ' Soccer Shoe')->{' Tech Pants'} =  100.0 %\n",
      "Support(' Dry Fit V-Nick', ' Soccer Shoe')->{' Tech Pants'} =  5\n",
      "\n",
      "\n",
      "Confidence (' Dry Fit V-Nick', ' Tech Pants')->{' Soccer Shoe'} =  62.5 %\n",
      "Support(' Dry Fit V-Nick', ' Tech Pants')->{' Soccer Shoe'} =  8\n",
      "\n",
      "\n",
      "Confidence (' Soccer Shoe', ' Tech Pants')->{' Dry Fit V-Nick'} =  100.0 %\n",
      "Support(' Soccer Shoe', ' Tech Pants')->{' Dry Fit V-Nick'} =  5\n",
      "\n",
      "\n",
      "Confidence (' Dry Fit V-Nick', ' Sweatshirts')->{' Tech Pants'} =  100.0 %\n",
      "Support(' Dry Fit V-Nick', ' Sweatshirts')->{' Tech Pants'} =  5\n",
      "\n",
      "\n",
      "Confidence (' Dry Fit V-Nick', ' Tech Pants')->{' Sweatshirts'} =  62.5 %\n",
      "Support(' Dry Fit V-Nick', ' Tech Pants')->{' Sweatshirts'} =  8\n",
      "\n",
      "\n",
      "Confidence (' Sweatshirts', ' Tech Pants')->{' Dry Fit V-Nick'} =  83.333 %\n",
      "Support(' Sweatshirts', ' Tech Pants')->{' Dry Fit V-Nick'} =  6\n",
      "\n",
      "\n",
      "Confidence (' Dry Fit V-Nick', ' Swimming Shirt')->{' Tech Pants'} =  100.0 %\n",
      "Support(' Dry Fit V-Nick', ' Swimming Shirt')->{' Tech Pants'} =  5\n",
      "\n",
      "\n",
      "Confidence (' Dry Fit V-Nick', ' Tech Pants')->{' Swimming Shirt'} =  62.5 %\n",
      "Support(' Dry Fit V-Nick', ' Tech Pants')->{' Swimming Shirt'} =  8\n",
      "\n",
      "\n",
      "Confidence (' Swimming Shirt', ' Tech Pants')->{' Dry Fit V-Nick'} =  100.0 %\n",
      "Support(' Swimming Shirt', ' Tech Pants')->{' Dry Fit V-Nick'} =  5\n",
      "\n",
      "\n",
      "Confidence (' Hoodies', ' Modern Pants')->{' Rash Guard'} =  100.0 %\n",
      "Support(' Hoodies', ' Modern Pants')->{' Rash Guard'} =  5\n",
      "\n",
      "\n",
      "Confidence (' Hoodies', ' Rash Guard')->{' Modern Pants'} =  62.5 %\n",
      "Support(' Hoodies', ' Rash Guard')->{' Modern Pants'} =  8\n",
      "\n",
      "\n",
      "Confidence (' Modern Pants', ' Rash Guard')->{' Hoodies'} =  83.333 %\n",
      "Support(' Modern Pants', ' Rash Guard')->{' Hoodies'} =  6\n",
      "\n",
      "\n",
      "Confidence (' Hoodies', ' Modern Pants')->{' Sweatshirts'} =  100.0 %\n",
      "Support(' Hoodies', ' Modern Pants')->{' Sweatshirts'} =  5\n",
      "\n",
      "\n",
      "Confidence (' Hoodies', ' Sweatshirts')->{' Modern Pants'} =  100.0 %\n",
      "Support(' Hoodies', ' Sweatshirts')->{' Modern Pants'} =  5\n",
      "\n",
      "\n",
      "Confidence (' Hoodies', ' Modern Pants')->{' Tech Pants'} =  100.0 %\n",
      "Support(' Hoodies', ' Modern Pants')->{' Tech Pants'} =  5\n",
      "\n",
      "\n",
      "Confidence (' Hoodies', ' Tech Pants')->{' Modern Pants'} =  62.5 %\n",
      "Support(' Hoodies', ' Tech Pants')->{' Modern Pants'} =  8\n",
      "\n",
      "\n",
      "Confidence (' Modern Pants', ' Tech Pants')->{' Hoodies'} =  83.333 %\n",
      "Support(' Modern Pants', ' Tech Pants')->{' Hoodies'} =  6\n",
      "\n",
      "\n",
      "Confidence (' Hoodies', ' Rash Guard')->{' Soccer Shoe'} =  62.5 %\n",
      "Support(' Hoodies', ' Rash Guard')->{' Soccer Shoe'} =  8\n",
      "\n",
      "\n",
      "Confidence (' Hoodies', ' Soccer Shoe')->{' Rash Guard'} =  100.0 %\n",
      "Support(' Hoodies', ' Soccer Shoe')->{' Rash Guard'} =  5\n",
      "\n",
      "\n",
      "Confidence (' Rash Guard', ' Soccer Shoe')->{' Hoodies'} =  100.0 %\n",
      "Support(' Rash Guard', ' Soccer Shoe')->{' Hoodies'} =  5\n",
      "\n",
      "\n",
      "Confidence (' Hoodies', ' Rash Guard')->{' Sweatshirts'} =  62.5 %\n",
      "Support(' Hoodies', ' Rash Guard')->{' Sweatshirts'} =  8\n",
      "\n",
      "\n",
      "Confidence (' Hoodies', ' Sweatshirts')->{' Rash Guard'} =  100.0 %\n",
      "Support(' Hoodies', ' Sweatshirts')->{' Rash Guard'} =  5\n",
      "\n",
      "\n",
      "Confidence (' Rash Guard', ' Sweatshirts')->{' Hoodies'} =  83.333 %\n",
      "Support(' Rash Guard', ' Sweatshirts')->{' Hoodies'} =  6\n",
      "\n",
      "\n",
      "Confidence (' Hoodies', ' Rash Guard')->{' Tech Pants'} =  100.0 %\n",
      "Support(' Hoodies', ' Rash Guard')->{' Tech Pants'} =  8\n",
      "\n",
      "\n",
      "Confidence (' Hoodies', ' Tech Pants')->{' Rash Guard'} =  100.0 %\n",
      "Support(' Hoodies', ' Tech Pants')->{' Rash Guard'} =  8\n",
      "\n",
      "\n",
      "Confidence (' Rash Guard', ' Tech Pants')->{' Hoodies'} =  88.889 %\n",
      "Support(' Rash Guard', ' Tech Pants')->{' Hoodies'} =  9\n",
      "\n",
      "\n",
      "Confidence (' Hoodies', ' Soccer Shoe')->{' Tech Pants'} =  100.0 %\n",
      "Support(' Hoodies', ' Soccer Shoe')->{' Tech Pants'} =  5\n",
      "\n",
      "\n",
      "Confidence (' Hoodies', ' Tech Pants')->{' Soccer Shoe'} =  62.5 %\n",
      "Support(' Hoodies', ' Tech Pants')->{' Soccer Shoe'} =  8\n",
      "\n",
      "\n",
      "Confidence (' Soccer Shoe', ' Tech Pants')->{' Hoodies'} =  100.0 %\n",
      "Support(' Soccer Shoe', ' Tech Pants')->{' Hoodies'} =  5\n",
      "\n",
      "\n",
      "Confidence (' Hoodies', ' Sweatshirts')->{' Tech Pants'} =  100.0 %\n",
      "Support(' Hoodies', ' Sweatshirts')->{' Tech Pants'} =  5\n",
      "\n",
      "\n",
      "Confidence (' Hoodies', ' Tech Pants')->{' Sweatshirts'} =  62.5 %\n",
      "Support(' Hoodies', ' Tech Pants')->{' Sweatshirts'} =  8\n",
      "\n",
      "\n",
      "Confidence (' Sweatshirts', ' Tech Pants')->{' Hoodies'} =  83.333 %\n",
      "Support(' Sweatshirts', ' Tech Pants')->{' Hoodies'} =  6\n",
      "\n",
      "\n",
      "Confidence (' Modern Pants', ' Rash Guard')->{' Socks'} =  83.333 %\n",
      "Support(' Modern Pants', ' Rash Guard')->{' Socks'} =  6\n",
      "\n",
      "\n",
      "Confidence (' Modern Pants', ' Socks')->{' Rash Guard'} =  62.5 %\n",
      "Support(' Modern Pants', ' Socks')->{' Rash Guard'} =  8\n",
      "\n",
      "\n",
      "Confidence (' Rash Guard', ' Socks')->{' Modern Pants'} =  100.0 %\n",
      "Support(' Rash Guard', ' Socks')->{' Modern Pants'} =  5\n",
      "\n",
      "\n",
      "Confidence (' Modern Pants', ' Rash Guard')->{' Sweatshirts'} =  100.0 %\n",
      "Support(' Modern Pants', ' Rash Guard')->{' Sweatshirts'} =  6\n",
      "\n",
      "\n",
      "Confidence (' Modern Pants', ' Sweatshirts')->{' Rash Guard'} =  60.0 %\n",
      "Support(' Modern Pants', ' Sweatshirts')->{' Rash Guard'} =  10\n",
      "\n",
      "\n",
      "Confidence (' Rash Guard', ' Sweatshirts')->{' Modern Pants'} =  100.0 %\n",
      "Support(' Rash Guard', ' Sweatshirts')->{' Modern Pants'} =  6\n",
      "\n",
      "\n",
      "Confidence (' Modern Pants', ' Rash Guard')->{' Tech Pants'} =  100.0 %\n",
      "Support(' Modern Pants', ' Rash Guard')->{' Tech Pants'} =  6\n",
      "\n",
      "\n",
      "Confidence (' Modern Pants', ' Tech Pants')->{' Rash Guard'} =  100.0 %\n",
      "Support(' Modern Pants', ' Tech Pants')->{' Rash Guard'} =  6\n",
      "\n",
      "\n",
      "Confidence (' Rash Guard', ' Tech Pants')->{' Modern Pants'} =  66.667 %\n",
      "Support(' Rash Guard', ' Tech Pants')->{' Modern Pants'} =  9\n",
      "\n",
      "\n",
      "Confidence (' Modern Pants', ' Socks')->{' Sweatshirts'} =  100.0 %\n",
      "Support(' Modern Pants', ' Socks')->{' Sweatshirts'} =  8\n",
      "\n",
      "\n",
      "Confidence (' Modern Pants', ' Sweatshirts')->{' Socks'} =  80.0 %\n",
      "Support(' Modern Pants', ' Sweatshirts')->{' Socks'} =  10\n",
      "\n",
      "\n",
      "Confidence (' Socks', ' Sweatshirts')->{' Modern Pants'} =  72.727 %\n",
      "Support(' Socks', ' Sweatshirts')->{' Modern Pants'} =  11\n",
      "\n",
      "\n",
      "Confidence (' Modern Pants', ' Socks')->{' Tech Pants'} =  62.5 %\n",
      "Support(' Modern Pants', ' Socks')->{' Tech Pants'} =  8\n",
      "\n",
      "\n",
      "Confidence (' Modern Pants', ' Tech Pants')->{' Socks'} =  83.333 %\n",
      "Support(' Modern Pants', ' Tech Pants')->{' Socks'} =  6\n",
      "\n",
      "\n",
      "Confidence (' Socks', ' Tech Pants')->{' Modern Pants'} =  100.0 %\n",
      "Support(' Socks', ' Tech Pants')->{' Modern Pants'} =  5\n",
      "\n",
      "\n",
      "Confidence (' Modern Pants', ' Socks')->{'Running Shoe'} =  87.5 %\n",
      "Support(' Modern Pants', ' Socks')->{'Running Shoe'} =  8\n",
      "\n",
      "\n",
      "Confidence (' Modern Pants', 'Running Shoe')->{' Socks'} =  87.5 %\n",
      "Support(' Modern Pants', 'Running Shoe')->{' Socks'} =  8\n",
      "\n",
      "\n",
      "Confidence (' Socks', 'Running Shoe')->{' Modern Pants'} =  70.0 %\n",
      "Support(' Socks', 'Running Shoe')->{' Modern Pants'} =  10\n",
      "\n",
      "\n",
      "Confidence (' Modern Pants', ' Sweatshirts')->{' Tech Pants'} =  60.0 %\n",
      "Support(' Modern Pants', ' Sweatshirts')->{' Tech Pants'} =  10\n",
      "\n",
      "\n",
      "Confidence (' Modern Pants', ' Tech Pants')->{' Sweatshirts'} =  100.0 %\n",
      "Support(' Modern Pants', ' Tech Pants')->{' Sweatshirts'} =  6\n",
      "\n",
      "\n",
      "Confidence (' Sweatshirts', ' Tech Pants')->{' Modern Pants'} =  100.0 %\n",
      "Support(' Sweatshirts', ' Tech Pants')->{' Modern Pants'} =  6\n",
      "\n",
      "\n",
      "Confidence (' Modern Pants', ' Sweatshirts')->{'Running Shoe'} =  80.0 %\n",
      "Support(' Modern Pants', ' Sweatshirts')->{'Running Shoe'} =  10\n",
      "\n",
      "\n",
      "Confidence (' Modern Pants', 'Running Shoe')->{' Sweatshirts'} =  100.0 %\n",
      "Support(' Modern Pants', 'Running Shoe')->{' Sweatshirts'} =  8\n",
      "\n",
      "\n",
      "Confidence (' Sweatshirts', 'Running Shoe')->{' Modern Pants'} =  80.0 %\n",
      "Support(' Sweatshirts', 'Running Shoe')->{' Modern Pants'} =  10\n",
      "\n",
      "\n",
      "Confidence (' Rash Guard', ' Soccer Shoe')->{' Tech Pants'} =  100.0 %\n",
      "Support(' Rash Guard', ' Soccer Shoe')->{' Tech Pants'} =  5\n",
      "\n",
      "\n",
      "Confidence (' Rash Guard', ' Tech Pants')->{' Soccer Shoe'} =  55.556 %\n",
      "Support(' Rash Guard', ' Tech Pants')->{' Soccer Shoe'} =  9\n",
      "\n",
      "\n",
      "Confidence (' Soccer Shoe', ' Tech Pants')->{' Rash Guard'} =  100.0 %\n",
      "Support(' Soccer Shoe', ' Tech Pants')->{' Rash Guard'} =  5\n",
      "\n",
      "\n",
      "Confidence (' Rash Guard', ' Socks')->{' Sweatshirts'} =  100.0 %\n",
      "Support(' Rash Guard', ' Socks')->{' Sweatshirts'} =  5\n",
      "\n",
      "\n",
      "Confidence (' Rash Guard', ' Sweatshirts')->{' Socks'} =  83.333 %\n",
      "Support(' Rash Guard', ' Sweatshirts')->{' Socks'} =  6\n",
      "\n",
      "\n",
      "Confidence (' Rash Guard', ' Socks')->{' Tech Pants'} =  100.0 %\n",
      "Support(' Rash Guard', ' Socks')->{' Tech Pants'} =  5\n",
      "\n",
      "\n",
      "Confidence (' Rash Guard', ' Tech Pants')->{' Socks'} =  55.556 %\n",
      "Support(' Rash Guard', ' Tech Pants')->{' Socks'} =  9\n",
      "\n",
      "\n",
      "Confidence (' Socks', ' Tech Pants')->{' Rash Guard'} =  100.0 %\n",
      "Support(' Socks', ' Tech Pants')->{' Rash Guard'} =  5\n",
      "\n",
      "\n",
      "Confidence (' Rash Guard', ' Sweatshirts')->{' Tech Pants'} =  100.0 %\n",
      "Support(' Rash Guard', ' Sweatshirts')->{' Tech Pants'} =  6\n",
      "\n",
      "\n",
      "Confidence (' Rash Guard', ' Tech Pants')->{' Sweatshirts'} =  66.667 %\n",
      "Support(' Rash Guard', ' Tech Pants')->{' Sweatshirts'} =  9\n",
      "\n",
      "\n",
      "Confidence (' Sweatshirts', ' Tech Pants')->{' Rash Guard'} =  100.0 %\n",
      "Support(' Sweatshirts', ' Tech Pants')->{' Rash Guard'} =  6\n",
      "\n",
      "\n",
      "Confidence (' Rash Guard', ' Swimming Shirt')->{' Tech Pants'} =  83.333 %\n",
      "Support(' Rash Guard', ' Swimming Shirt')->{' Tech Pants'} =  6\n",
      "\n",
      "\n",
      "Confidence (' Rash Guard', ' Tech Pants')->{' Swimming Shirt'} =  55.556 %\n",
      "Support(' Rash Guard', ' Tech Pants')->{' Swimming Shirt'} =  9\n",
      "\n",
      "\n",
      "Confidence (' Swimming Shirt', ' Tech Pants')->{' Rash Guard'} =  100.0 %\n",
      "Support(' Swimming Shirt', ' Tech Pants')->{' Rash Guard'} =  5\n",
      "\n",
      "\n",
      "Confidence (' Rash Guard', ' Swimming Shirt')->{'Running Shoe'} =  83.333 %\n",
      "Support(' Rash Guard', ' Swimming Shirt')->{'Running Shoe'} =  6\n",
      "\n",
      "\n",
      "Confidence (' Rash Guard', 'Running Shoe')->{' Swimming Shirt'} =  83.333 %\n",
      "Support(' Rash Guard', 'Running Shoe')->{' Swimming Shirt'} =  6\n",
      "\n",
      "\n",
      "Confidence (' Swimming Shirt', 'Running Shoe')->{' Rash Guard'} =  100.0 %\n",
      "Support(' Swimming Shirt', 'Running Shoe')->{' Rash Guard'} =  5\n",
      "\n",
      "\n",
      "Confidence (' Rash Guard', ' Tech Pants')->{'Running Shoe'} =  55.556 %\n",
      "Support(' Rash Guard', ' Tech Pants')->{'Running Shoe'} =  9\n",
      "\n",
      "\n",
      "Confidence (' Rash Guard', 'Running Shoe')->{' Tech Pants'} =  83.333 %\n",
      "Support(' Rash Guard', 'Running Shoe')->{' Tech Pants'} =  6\n",
      "\n",
      "\n",
      "Confidence (' Tech Pants', 'Running Shoe')->{' Rash Guard'} =  100.0 %\n",
      "Support(' Tech Pants', 'Running Shoe')->{' Rash Guard'} =  5\n",
      "\n",
      "\n",
      "Confidence (' Socks', ' Tech Pants')->{' Sweatshirts'} =  100.0 %\n",
      "Support(' Socks', ' Tech Pants')->{' Sweatshirts'} =  5\n",
      "\n",
      "\n",
      "Confidence (' Sweatshirts', ' Tech Pants')->{' Socks'} =  83.333 %\n",
      "Support(' Sweatshirts', ' Tech Pants')->{' Socks'} =  6\n",
      "\n",
      "\n",
      "Confidence (' Socks', ' Sweatshirts')->{'Running Shoe'} =  81.818 %\n",
      "Support(' Socks', ' Sweatshirts')->{'Running Shoe'} =  11\n",
      "\n",
      "\n",
      "Confidence (' Socks', 'Running Shoe')->{' Sweatshirts'} =  90.0 %\n",
      "Support(' Socks', 'Running Shoe')->{' Sweatshirts'} =  10\n",
      "\n",
      "\n",
      "Confidence (' Sweatshirts', 'Running Shoe')->{' Socks'} =  90.0 %\n",
      "Support(' Sweatshirts', 'Running Shoe')->{' Socks'} =  10\n",
      "\n",
      "\n"
     ]
    }
   ],
   "source": [
    "itemlist = {**l1, **l2, **l3, **l4}\n",
    "\n",
    "def support_count(itemset, itemlist):\n",
    "    return itemlist[itemset]\n",
    "\n",
    "def print_sets():\n",
    "    print('Possible sets with just 1 item ',l1)\n",
    "\n",
    "sets = []\n",
    "for iter1 in list(l3.keys()):\n",
    "    subsets = list(itertools.combinations(iter1, 2))\n",
    "    sets.append(subsets)\n",
    "\n",
    "list_l3 = list(l3.keys())\n",
    "print('ASSOCIATION RULES : '+ '\\n')\n",
    "for i in range(0, len(list_l3)):\n",
    "    for iter1 in sets[i]:\n",
    "        a = iter1\n",
    "        b = set(list_l3[i]) - set(iter1)\n",
    "        confidence = (support_count(list_l3[i], itemlist)/support_count(iter1, itemlist))*100\n",
    "        support_i = support_count(iter1,itemlist)\n",
    "        if confidence > minimum_confi:\n",
    "            print(\"Confidence {}->{} = \".format(a,b), round(confidence,3),'%')\n",
    "            print('Support{}->{} = '.format(a,b),round(support_i,3))\n",
    "            print('\\n')\n",
    "#         print(\"Confidence{}->{} = \".format(a,b), confidence)"
   ]
  },
  {
   "cell_type": "markdown",
   "metadata": {},
   "source": [
    "## Dataset 3\n",
    "\n",
    "Note- (Select any value for 'i' other than 1 & 2)"
   ]
  },
  {
   "cell_type": "code",
   "execution_count": 42,
   "metadata": {},
   "outputs": [
    {
     "name": "stdout",
     "output_type": "stream",
     "text": [
      "Enter any desired value 4\n"
     ]
    }
   ],
   "source": [
    "i = int(input('Enter any desired value '))\n",
    "if i == 1:\n",
    "    data = pd.read_csv('GroceryStoreDataSet.csv')\n",
    "if i ==2:\n",
    "    data = pd.read_csv('nike.csv')\n",
    "else:\n",
    "    data = pd.read_csv('flipkart.csv')"
   ]
  },
  {
   "cell_type": "code",
   "execution_count": 43,
   "metadata": {},
   "outputs": [
    {
     "data": {
      "text/html": [
       "<div>\n",
       "<style scoped>\n",
       "    .dataframe tbody tr th:only-of-type {\n",
       "        vertical-align: middle;\n",
       "    }\n",
       "\n",
       "    .dataframe tbody tr th {\n",
       "        vertical-align: top;\n",
       "    }\n",
       "\n",
       "    .dataframe thead th {\n",
       "        text-align: right;\n",
       "    }\n",
       "</style>\n",
       "<table border=\"1\" class=\"dataframe\">\n",
       "  <thead>\n",
       "    <tr style=\"text-align: right;\">\n",
       "      <th></th>\n",
       "      <th>Item 1</th>\n",
       "      <th>Item 2</th>\n",
       "      <th>Item 3</th>\n",
       "      <th>Item 4</th>\n",
       "      <th>Item 5</th>\n",
       "      <th>Item 6</th>\n",
       "      <th>Item 7</th>\n",
       "      <th>Item 8</th>\n",
       "      <th>Item 9</th>\n",
       "    </tr>\n",
       "  </thead>\n",
       "  <tbody>\n",
       "    <tr>\n",
       "      <th>0</th>\n",
       "      <td>Desk Top</td>\n",
       "      <td>Flash Drive</td>\n",
       "      <td>Microsoft Office</td>\n",
       "      <td>Speakers</td>\n",
       "      <td>Anti-Virus</td>\n",
       "      <td>NaN</td>\n",
       "      <td>NaN</td>\n",
       "      <td>NaN</td>\n",
       "      <td>NaN</td>\n",
       "    </tr>\n",
       "    <tr>\n",
       "      <th>1</th>\n",
       "      <td>Lab Top</td>\n",
       "      <td>Flash Drive</td>\n",
       "      <td>Microsoft Office</td>\n",
       "      <td>Anti-Virus</td>\n",
       "      <td>Lab Top Case</td>\n",
       "      <td>External Hard-Drive</td>\n",
       "      <td>NaN</td>\n",
       "      <td>NaN</td>\n",
       "      <td>NaN</td>\n",
       "    </tr>\n",
       "    <tr>\n",
       "      <th>2</th>\n",
       "      <td>Lab Top</td>\n",
       "      <td>Flash Drive</td>\n",
       "      <td>Anti-Virus</td>\n",
       "      <td>External Hard-Drive</td>\n",
       "      <td>Lab Top Case</td>\n",
       "      <td>NaN</td>\n",
       "      <td>NaN</td>\n",
       "      <td>NaN</td>\n",
       "      <td>NaN</td>\n",
       "    </tr>\n",
       "    <tr>\n",
       "      <th>3</th>\n",
       "      <td>Lab Top</td>\n",
       "      <td>Lab Top Case</td>\n",
       "      <td>Anti-Virus</td>\n",
       "      <td>NaN</td>\n",
       "      <td>NaN</td>\n",
       "      <td>NaN</td>\n",
       "      <td>NaN</td>\n",
       "      <td>NaN</td>\n",
       "      <td>NaN</td>\n",
       "    </tr>\n",
       "    <tr>\n",
       "      <th>4</th>\n",
       "      <td>Lab Top</td>\n",
       "      <td>Flash Drive</td>\n",
       "      <td>Microsoft Office</td>\n",
       "      <td>NaN</td>\n",
       "      <td>NaN</td>\n",
       "      <td>NaN</td>\n",
       "      <td>NaN</td>\n",
       "      <td>NaN</td>\n",
       "      <td>NaN</td>\n",
       "    </tr>\n",
       "  </tbody>\n",
       "</table>\n",
       "</div>"
      ],
      "text/plain": [
       "      Item 1         Item 2             Item 3                Item 4  \\\n",
       "0   Desk Top    Flash Drive   Microsoft Office              Speakers   \n",
       "1    Lab Top    Flash Drive   Microsoft Office            Anti-Virus   \n",
       "2    Lab Top    Flash Drive         Anti-Virus   External Hard-Drive   \n",
       "3    Lab Top   Lab Top Case         Anti-Virus                   NaN   \n",
       "4    Lab Top    Flash Drive   Microsoft Office                   NaN   \n",
       "\n",
       "          Item 5               Item 6  Item 7 Item 8 Item 9  \n",
       "0     Anti-Virus                   NaN    NaN    NaN    NaN  \n",
       "1   Lab Top Case   External Hard-Drive    NaN    NaN    NaN  \n",
       "2   Lab Top Case                   NaN    NaN    NaN    NaN  \n",
       "3            NaN                   NaN    NaN    NaN    NaN  \n",
       "4            NaN                   NaN    NaN    NaN    NaN  "
      ]
     },
     "execution_count": 43,
     "metadata": {},
     "output_type": "execute_result"
    }
   ],
   "source": [
    "data.head()"
   ]
  },
  {
   "cell_type": "code",
   "execution_count": 44,
   "metadata": {},
   "outputs": [
    {
     "data": {
      "text/html": [
       "<div>\n",
       "<style scoped>\n",
       "    .dataframe tbody tr th:only-of-type {\n",
       "        vertical-align: middle;\n",
       "    }\n",
       "\n",
       "    .dataframe tbody tr th {\n",
       "        vertical-align: top;\n",
       "    }\n",
       "\n",
       "    .dataframe thead th {\n",
       "        text-align: right;\n",
       "    }\n",
       "</style>\n",
       "<table border=\"1\" class=\"dataframe\">\n",
       "  <thead>\n",
       "    <tr style=\"text-align: right;\">\n",
       "      <th></th>\n",
       "      <th>Item 1</th>\n",
       "      <th>Item 2</th>\n",
       "      <th>Item 3</th>\n",
       "      <th>Item 4</th>\n",
       "      <th>Item 5</th>\n",
       "      <th>Item 6</th>\n",
       "      <th>Item 7</th>\n",
       "      <th>Item 8</th>\n",
       "      <th>Item 9</th>\n",
       "    </tr>\n",
       "  </thead>\n",
       "  <tbody>\n",
       "    <tr>\n",
       "      <th>14</th>\n",
       "      <td>Digital Camera</td>\n",
       "      <td>Microsoft Office</td>\n",
       "      <td>Anti-Virus</td>\n",
       "      <td>Lab Top Case</td>\n",
       "      <td>External Hard-Drive</td>\n",
       "      <td>Speakers</td>\n",
       "      <td>NaN</td>\n",
       "      <td>NaN</td>\n",
       "      <td>NaN</td>\n",
       "    </tr>\n",
       "    <tr>\n",
       "      <th>15</th>\n",
       "      <td>Digital Camera</td>\n",
       "      <td>Lab Top Case</td>\n",
       "      <td>NaN</td>\n",
       "      <td>NaN</td>\n",
       "      <td>NaN</td>\n",
       "      <td>NaN</td>\n",
       "      <td>NaN</td>\n",
       "      <td>NaN</td>\n",
       "      <td>NaN</td>\n",
       "    </tr>\n",
       "    <tr>\n",
       "      <th>16</th>\n",
       "      <td>Digital Camera</td>\n",
       "      <td>Speakers</td>\n",
       "      <td>NaN</td>\n",
       "      <td>NaN</td>\n",
       "      <td>NaN</td>\n",
       "      <td>NaN</td>\n",
       "      <td>NaN</td>\n",
       "      <td>NaN</td>\n",
       "      <td>NaN</td>\n",
       "    </tr>\n",
       "    <tr>\n",
       "      <th>17</th>\n",
       "      <td>Digital Camera</td>\n",
       "      <td>Printer</td>\n",
       "      <td>Flash Drive</td>\n",
       "      <td>Microsoft Office</td>\n",
       "      <td>Speakers</td>\n",
       "      <td>Lab Top Case</td>\n",
       "      <td>Anti-Virus</td>\n",
       "      <td>NaN</td>\n",
       "      <td>NaN</td>\n",
       "    </tr>\n",
       "    <tr>\n",
       "      <th>18</th>\n",
       "      <td>Digital Camera</td>\n",
       "      <td>Speakers</td>\n",
       "      <td>Anti-Virus</td>\n",
       "      <td>Lab Top Case</td>\n",
       "      <td>NaN</td>\n",
       "      <td>NaN</td>\n",
       "      <td>NaN</td>\n",
       "      <td>NaN</td>\n",
       "      <td>NaN</td>\n",
       "    </tr>\n",
       "  </tbody>\n",
       "</table>\n",
       "</div>"
      ],
      "text/plain": [
       "              Item 1             Item 2        Item 3             Item 4  \\\n",
       "14    Digital Camera   Microsoft Office    Anti-Virus       Lab Top Case   \n",
       "15   Digital Camera        Lab Top Case           NaN                NaN   \n",
       "16   Digital Camera            Speakers           NaN                NaN   \n",
       "17   Digital Camera             Printer   Flash Drive   Microsoft Office   \n",
       "18   Digital Camera            Speakers    Anti-Virus       Lab Top Case   \n",
       "\n",
       "                  Item 5        Item 6        Item 7 Item 8 Item 9  \n",
       "14   External Hard-Drive       Speakers          NaN    NaN    NaN  \n",
       "15                   NaN            NaN          NaN    NaN    NaN  \n",
       "16                   NaN            NaN          NaN    NaN    NaN  \n",
       "17              Speakers   Lab Top Case   Anti-Virus    NaN    NaN  \n",
       "18                   NaN            NaN          NaN    NaN    NaN  "
      ]
     },
     "execution_count": 44,
     "metadata": {},
     "output_type": "execute_result"
    }
   ],
   "source": [
    "data.tail()"
   ]
  },
  {
   "cell_type": "code",
   "execution_count": 45,
   "metadata": {},
   "outputs": [
    {
     "data": {
      "text/plain": [
       "(19, 9)"
      ]
     },
     "execution_count": 45,
     "metadata": {},
     "output_type": "execute_result"
    }
   ],
   "source": [
    "data.shape"
   ]
  },
  {
   "cell_type": "markdown",
   "metadata": {},
   "source": [
    "## List of all unique items in each transaction"
   ]
  },
  {
   "cell_type": "code",
   "execution_count": 46,
   "metadata": {},
   "outputs": [
    {
     "name": "stdout",
     "output_type": "stream",
     "text": [
      "List of Unique Items in Transaction : 0 \n",
      "[' Desk Top' ' Flash Drive' ' Microsoft Office' ' Speakers' ' Anti-Virus']  \n",
      "\n",
      "List of Unique Items in Transaction : 1 \n",
      "[' Lab Top' ' Flash Drive' ' Microsoft Office' ' Anti-Virus'\n",
      " ' Lab Top Case' ' External Hard-Drive']  \n",
      "\n",
      "List of Unique Items in Transaction : 2 \n",
      "[' Lab Top' ' Flash Drive' ' Anti-Virus' ' External Hard-Drive'\n",
      " ' Lab Top Case']  \n",
      "\n",
      "List of Unique Items in Transaction : 3 \n",
      "[' Lab Top' ' Lab Top Case' ' Anti-Virus']  \n",
      "\n",
      "List of Unique Items in Transaction : 4 \n",
      "[' Lab Top' ' Flash Drive' ' Microsoft Office']  \n",
      "\n",
      "List of Unique Items in Transaction : 5 \n",
      "[' Desk Top' ' Flash Drive' ' Microsoft Office']  \n",
      "\n",
      "List of Unique Items in Transaction : 6 \n",
      "[' Lab Top' ' Anti-Virus']  \n",
      "\n",
      "List of Unique Items in Transaction : 7 \n",
      "[' Desk Top' ' Flash Drive' ' Microsoft Office' ' Lab Top Case'\n",
      " ' Anti-Virus' ' Speakers' ' External Hard-Drive']  \n",
      "\n",
      "List of Unique Items in Transaction : 8 \n",
      "[' Digital Camera ' ' Desk Top' ' Printer' ' Flash Drive'\n",
      " ' Microsoft Office' ' Lab Top Case' ' Anti-Virus' ' External Hard-Drive'\n",
      " ' Speakers']  \n",
      "\n",
      "List of Unique Items in Transaction : 9 \n",
      "[' Lab Top' ' Lab Top Case' ' External Hard-Drive' ' Speakers'\n",
      " ' Anti-Virus']  \n",
      "\n",
      "List of Unique Items in Transaction : 10 \n",
      "[' Digital Camera ' ' Lab Top Case' ' External Hard-Drive' ' Anti-Virus'\n",
      " ' Speakers']  \n",
      "\n",
      "List of Unique Items in Transaction : 11 \n",
      "[' Digital Camera ']  \n",
      "\n",
      "List of Unique Items in Transaction : 12 \n",
      "[' Digital Camera ' ' Printer' ' Flash Drive' ' Microsoft Office']  \n",
      "\n",
      "List of Unique Items in Transaction : 13 \n",
      "[' Printer' ' Microsoft Office' ' Anti-Virus' ' Lab Top Case' ' Speakers'\n",
      " ' External Hard-Drive']  \n",
      "\n",
      "List of Unique Items in Transaction : 14 \n",
      "[' Digital Camera' ' Microsoft Office' ' Anti-Virus' ' Lab Top Case'\n",
      " ' External Hard-Drive' ' Speakers']  \n",
      "\n",
      "List of Unique Items in Transaction : 15 \n",
      "[' Digital Camera ' ' Lab Top Case']  \n",
      "\n",
      "List of Unique Items in Transaction : 16 \n",
      "[' Digital Camera ' ' Speakers']  \n",
      "\n",
      "List of Unique Items in Transaction : 17 \n",
      "[' Digital Camera ' ' Printer' ' Flash Drive' ' Microsoft Office'\n",
      " ' Speakers' ' Lab Top Case' ' Anti-Virus']  \n",
      "\n",
      "List of Unique Items in Transaction : 18 \n",
      "[' Digital Camera ' ' Speakers' ' Anti-Virus' ' Lab Top Case']  \n",
      "\n"
     ]
    }
   ],
   "source": [
    "for i in range(data.shape[0]):\n",
    "    print(f'List of Unique Items in Transaction : {i} ')\n",
    "    print(data.iloc[i].dropna().unique(),' \\n')"
   ]
  },
  {
   "cell_type": "code",
   "execution_count": 47,
   "metadata": {},
   "outputs": [
    {
     "name": "stdout",
     "output_type": "stream",
     "text": [
      "Total no. of transactions in this dataset 19\n"
     ]
    }
   ],
   "source": [
    "print(f'Total no. of transactions in this dataset {data.shape[0]}')"
   ]
  },
  {
   "cell_type": "code",
   "execution_count": 48,
   "metadata": {},
   "outputs": [
    {
     "name": "stdout",
     "output_type": "stream",
     "text": [
      "enter any value for min support count 7\n"
     ]
    }
   ],
   "source": [
    "minimum_s_count = float(input('enter any value for min support count '))"
   ]
  },
  {
   "cell_type": "code",
   "execution_count": 49,
   "metadata": {},
   "outputs": [
    {
     "name": "stdout",
     "output_type": "stream",
     "text": [
      "Enter any desired value for confidence 45.9\n"
     ]
    }
   ],
   "source": [
    "minimum_confi = float(input('Enter any desired value for confidence '))"
   ]
  },
  {
   "cell_type": "code",
   "execution_count": 50,
   "metadata": {},
   "outputs": [],
   "source": [
    "records = []\n",
    "for i in range(0, data.shape[0]):\n",
    "    records.append([str(data.values[i,j]) for j in range(0, data.shape[1])])\n",
    "\n",
    "items = sorted([item for sublist in records for item in sublist if item != 'nan'])"
   ]
  },
  {
   "cell_type": "markdown",
   "metadata": {},
   "source": [
    "### List of all unique items in this dataset"
   ]
  },
  {
   "cell_type": "code",
   "execution_count": 51,
   "metadata": {},
   "outputs": [
    {
     "data": {
      "text/plain": [
       "{' Anti-Virus',\n",
       " ' Desk Top',\n",
       " ' Digital Camera',\n",
       " ' Digital Camera ',\n",
       " ' External Hard-Drive',\n",
       " ' Flash Drive',\n",
       " ' Lab Top',\n",
       " ' Lab Top Case',\n",
       " ' Microsoft Office',\n",
       " ' Printer',\n",
       " ' Speakers'}"
      ]
     },
     "execution_count": 51,
     "metadata": {},
     "output_type": "execute_result"
    }
   ],
   "source": [
    "set(items)"
   ]
  },
  {
   "cell_type": "code",
   "execution_count": 52,
   "metadata": {},
   "outputs": [],
   "source": [
    "# To get a single item with their overall count in all transactions given.\n",
    "\n",
    "def stage_1(items, minimum_s_count):\n",
    "    c1 = {i:items.count(i) for i in items}\n",
    "    l1 = {}\n",
    "    for key, value in c1.items():\n",
    "        if value >= minimum_s_count:\n",
    "            l1[key] = value \n",
    "    \n",
    "    return c1, l1"
   ]
  },
  {
   "cell_type": "code",
   "execution_count": 53,
   "metadata": {},
   "outputs": [],
   "source": [
    "# To get sets of 2 items with their overall count in all transactions given.\n",
    "def stage_2(l1, records, minimum_s_count):\n",
    "    l1 = sorted(list(l1.keys()))\n",
    "    L1 = list(itertools.combinations(l1, 2))              # To make all possible combinations of 2 items\n",
    "    c2 = {}\n",
    "    l2 = {}\n",
    "    for iter1 in L1:\n",
    "        count = 0\n",
    "        for iter2 in records:\n",
    "            if sublist(iter1, iter2):\n",
    "                count+=1\n",
    "        c2[iter1] = count\n",
    "    for key, value in c2.items():\n",
    "        if value >= minimum_s_count:\n",
    "            if check_subset_frequency(key, l1, 1):\n",
    "                l2[key] = value \n",
    "    \n",
    "    return c2, l2"
   ]
  },
  {
   "cell_type": "code",
   "execution_count": 54,
   "metadata": {},
   "outputs": [],
   "source": [
    "# To get sets of 3 items with their overall count in all transactions given.    \n",
    "def stage_3(l2, records, minimum_s_count):\n",
    "    l2 = list(l2.keys())\n",
    "    L2 = sorted(list(set([item for t in l2 for item in t])))\n",
    "    L2 = list(itertools.combinations(L2, 3))           # To make all possible combinations of 3 items\n",
    "    c3 = {}\n",
    "    l3 = {}\n",
    "    for iter1 in L2:\n",
    "        count = 0\n",
    "        for iter2 in records:\n",
    "            if sublist(iter1, iter2):\n",
    "                count+=1\n",
    "        c3[iter1] = count\n",
    "    for key, value in c3.items():\n",
    "        if value >= minimum_s_count:\n",
    "            if check_subset_frequency(key, l2, 2):\n",
    "                l3[key] = value \n",
    "        \n",
    "    return c3, l3"
   ]
  },
  {
   "cell_type": "code",
   "execution_count": 55,
   "metadata": {},
   "outputs": [],
   "source": [
    "# To get sets of 4 items with their overall count in all transactions given.\n",
    "def stage_4(l3, records, minimum_s_count):\n",
    "    l3 = list(l3.keys())\n",
    "    L3 = sorted(list(set([item for t in l3 for item in t])))\n",
    "    L3 = list(itertools.combinations(L3, 4))             # To make all possible combinations of 4 items\n",
    "    c4 = {}\n",
    "    l4 = {}\n",
    "    for iter1 in L3:\n",
    "        count = 0\n",
    "        for iter2 in records:\n",
    "            if sublist(iter1, iter2):\n",
    "                count+=1\n",
    "        c4[iter1] = count\n",
    "    for key, value in c4.items():\n",
    "        if value >= minimum_s_count:\n",
    "            if check_subset_frequency(key, l3, 3):\n",
    "                l4[key] = value \n",
    "        \n",
    "    return c4, l4"
   ]
  },
  {
   "cell_type": "code",
   "execution_count": 56,
   "metadata": {},
   "outputs": [],
   "source": [
    "def sublist(lst1, lst2):\n",
    "    return set(lst1) <= set(lst2)\n",
    "    \n",
    "def check_subset_frequency(itemset, l, n):\n",
    "    if n>1:    \n",
    "        subsets = list(itertools.combinations(itemset, n))\n",
    "    else:\n",
    "        subsets = itemset\n",
    "    for iter1 in subsets:\n",
    "        if not iter1 in l:\n",
    "            return False\n",
    "    return True"
   ]
  },
  {
   "cell_type": "markdown",
   "metadata": {},
   "source": [
    "## Below part prints all L1,L2,L3\n",
    "###### All of them have pairs of 1 item, 2 items, 3 items respectively following minimum support decided by user above"
   ]
  },
  {
   "cell_type": "code",
   "execution_count": 57,
   "metadata": {},
   "outputs": [],
   "source": [
    "c1, l1 = stage_1(items, minimum_s_count)\n",
    "c2, l2 = stage_2(l1, records, minimum_s_count)\n",
    "c3, l3 = stage_3(l2, records, minimum_s_count)\n",
    "c4, l4 = stage_4(l3, records, minimum_s_count)"
   ]
  },
  {
   "cell_type": "code",
   "execution_count": 58,
   "metadata": {},
   "outputs": [
    {
     "name": "stdout",
     "output_type": "stream",
     "text": [
      " Anti-Virus  :  13\n",
      " Digital Camera   :  8\n",
      " External Hard-Drive  :  8\n",
      " Flash Drive  :  9\n",
      " Lab Top Case  :  12\n",
      " Microsoft Office  :  10\n",
      " Speakers  :  10\n"
     ]
    }
   ],
   "source": [
    "for key, value in l1.items():\n",
    "    print(key, ' : ', value)"
   ]
  },
  {
   "cell_type": "code",
   "execution_count": 59,
   "metadata": {},
   "outputs": [
    {
     "name": "stdout",
     "output_type": "stream",
     "text": [
      "(' Anti-Virus', ' External Hard-Drive')  :  8\n",
      "(' Anti-Virus', ' Lab Top Case')  :  11\n",
      "(' Anti-Virus', ' Microsoft Office')  :  7\n",
      "(' Anti-Virus', ' Speakers')  :  9\n",
      "(' External Hard-Drive', ' Lab Top Case')  :  8\n",
      "(' Flash Drive', ' Microsoft Office')  :  8\n",
      "(' Lab Top Case', ' Speakers')  :  8\n"
     ]
    }
   ],
   "source": [
    "for key, value in l2.items():\n",
    "    print(key, ' : ', value)"
   ]
  },
  {
   "cell_type": "code",
   "execution_count": 60,
   "metadata": {},
   "outputs": [
    {
     "name": "stdout",
     "output_type": "stream",
     "text": [
      "(' Anti-Virus', ' External Hard-Drive', ' Lab Top Case')  :  8\n",
      "(' Anti-Virus', ' Lab Top Case', ' Speakers')  :  8\n"
     ]
    }
   ],
   "source": [
    "for key, value in l3.items():\n",
    "    print(key, ' : ', value)"
   ]
  },
  {
   "cell_type": "markdown",
   "metadata": {},
   "source": [
    "## Print Association Rules\n",
    "\n",
    "###### (with their Minimum support & minimum confidence)"
   ]
  },
  {
   "cell_type": "code",
   "execution_count": 61,
   "metadata": {},
   "outputs": [
    {
     "name": "stdout",
     "output_type": "stream",
     "text": [
      "ASSOCIATION RULES : \n",
      "\n",
      "Confidence (' Anti-Virus', ' External Hard-Drive')->{' Lab Top Case'} =  100.0 %\n",
      "Support(' Anti-Virus', ' External Hard-Drive')->{' Lab Top Case'} =  8\n",
      "\n",
      "\n",
      "Confidence (' Anti-Virus', ' Lab Top Case')->{' External Hard-Drive'} =  72.727 %\n",
      "Support(' Anti-Virus', ' Lab Top Case')->{' External Hard-Drive'} =  11\n",
      "\n",
      "\n",
      "Confidence (' External Hard-Drive', ' Lab Top Case')->{' Anti-Virus'} =  100.0 %\n",
      "Support(' External Hard-Drive', ' Lab Top Case')->{' Anti-Virus'} =  8\n",
      "\n",
      "\n",
      "Confidence (' Anti-Virus', ' Lab Top Case')->{' Speakers'} =  72.727 %\n",
      "Support(' Anti-Virus', ' Lab Top Case')->{' Speakers'} =  11\n",
      "\n",
      "\n",
      "Confidence (' Anti-Virus', ' Speakers')->{' Lab Top Case'} =  88.889 %\n",
      "Support(' Anti-Virus', ' Speakers')->{' Lab Top Case'} =  9\n",
      "\n",
      "\n",
      "Confidence (' Lab Top Case', ' Speakers')->{' Anti-Virus'} =  100.0 %\n",
      "Support(' Lab Top Case', ' Speakers')->{' Anti-Virus'} =  8\n",
      "\n",
      "\n"
     ]
    }
   ],
   "source": [
    "itemlist = {**l1, **l2, **l3, **l4}\n",
    "\n",
    "def support_count(itemset, itemlist):\n",
    "    return itemlist[itemset]\n",
    "\n",
    "def print_sets():\n",
    "    print('Possible sets with just 1 item ',l1)\n",
    "\n",
    "sets = []\n",
    "for iter1 in list(l3.keys()):\n",
    "    subsets = list(itertools.combinations(iter1, 2))\n",
    "    sets.append(subsets)\n",
    "\n",
    "list_l3 = list(l3.keys())\n",
    "print('ASSOCIATION RULES : '+ '\\n')\n",
    "for i in range(0, len(list_l3)):\n",
    "    for iter1 in sets[i]:\n",
    "        a = iter1\n",
    "        b = set(list_l3[i]) - set(iter1)\n",
    "        confidence = (support_count(list_l3[i], itemlist)/support_count(iter1, itemlist))*100\n",
    "        support_i = support_count(iter1,itemlist)\n",
    "        if confidence > minimum_confi:\n",
    "            print(\"Confidence {}->{} = \".format(a,b), round(confidence,3),'%')\n",
    "            print('Support{}->{} = '.format(a,b),round(support_i,3))\n",
    "            print('\\n')\n",
    "#         print(\"Confidence{}->{} = \".format(a,b), confidence)"
   ]
  },
  {
   "cell_type": "code",
   "execution_count": null,
   "metadata": {},
   "outputs": [],
   "source": []
  },
  {
   "cell_type": "code",
   "execution_count": null,
   "metadata": {},
   "outputs": [],
   "source": []
  },
  {
   "cell_type": "code",
   "execution_count": null,
   "metadata": {},
   "outputs": [],
   "source": []
  },
  {
   "cell_type": "code",
   "execution_count": null,
   "metadata": {},
   "outputs": [],
   "source": []
  },
  {
   "cell_type": "code",
   "execution_count": null,
   "metadata": {},
   "outputs": [],
   "source": []
  },
  {
   "cell_type": "code",
   "execution_count": null,
   "metadata": {},
   "outputs": [],
   "source": []
  },
  {
   "cell_type": "code",
   "execution_count": null,
   "metadata": {},
   "outputs": [],
   "source": []
  },
  {
   "cell_type": "code",
   "execution_count": null,
   "metadata": {},
   "outputs": [],
   "source": []
  },
  {
   "cell_type": "code",
   "execution_count": null,
   "metadata": {},
   "outputs": [],
   "source": []
  },
  {
   "cell_type": "code",
   "execution_count": null,
   "metadata": {},
   "outputs": [],
   "source": []
  }
 ],
 "metadata": {
  "kernelspec": {
   "display_name": "Python 3",
   "language": "python",
   "name": "python3"
  },
  "language_info": {
   "codemirror_mode": {
    "name": "ipython",
    "version": 3
   },
   "file_extension": ".py",
   "mimetype": "text/x-python",
   "name": "python",
   "nbconvert_exporter": "python",
   "pygments_lexer": "ipython3",
   "version": "3.8.5"
  }
 },
 "nbformat": 4,
 "nbformat_minor": 4
}
